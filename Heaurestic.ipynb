{
 "cells": [
  {
   "cell_type": "code",
   "execution_count": 1,
   "metadata": {},
   "outputs": [],
   "source": [
    "import numpy as np\n",
    "import pandas as pd\n",
    "from functools import reduce\n",
    "import random\n",
    "import sys\n",
    "import time\n",
    "import pyclipper\n",
    "from math import *\n",
    "import matplotlib.pyplot as plt\n",
    "from matplotlib.path import Path\n",
    "import matplotlib.patches as patches\n",
    "import scipy.stats\n",
    "import plotly.express as px"
   ]
  },
  {
   "cell_type": "markdown",
   "metadata": {},
   "source": [
    "## Declere The Rectengle"
   ]
  },
  {
   "cell_type": "code",
   "execution_count": 2,
   "metadata": {
    "scrolled": true
   },
   "outputs": [
    {
     "name": "stdout",
     "output_type": "stream",
     "text": [
      "[174, 102, 194, 173, -89]\n"
     ]
    }
   ],
   "source": [
    "rect = [174, 102, 194, 173, -89]\n",
    "print(rect)"
   ]
  },
  {
   "cell_type": "markdown",
   "metadata": {},
   "source": [
    "# Initial Function"
   ]
  },
  {
   "cell_type": "code",
   "execution_count": 3,
   "metadata": {},
   "outputs": [],
   "source": [
    "def limit(x, border_min, border_max):\n",
    "    if x < border_min: return border_min\n",
    "    elif x > border_max: return border_max\n",
    "    else: return x\n",
    "\n",
    "\n",
    "def circ_slice(a, start, length):\n",
    "    it = itertools.cycle(a)\n",
    "    next(itertools.islice(it, start, start), None)\n",
    "    return list(itertools.islice(it, length))\n",
    "\n",
    "def distance(a, b):\n",
    "    return np.sqrt(np.sum((np.array(a) - np.array(b))**2))\n",
    "\n",
    "\n",
    "def area(path):\n",
    "    path = np.array(path)\n",
    "    path_shift = np.roll(path, -1, axis=0)\n",
    "    return 0.5 * np.abs(np.dot(path[:,0], path_shift[:,1]) - \\\n",
    "                        np.dot(path[:,1], path_shift[:,0]))\n",
    "\n",
    "\n",
    "def draw_solution(polygon, rectangle, intersection=None, show_text=False):\n",
    "    fig, ax = plt.subplots(figsize=(10, 10))\n",
    "    \n",
    "    poly = np.array(polygon)\n",
    "    ax.fill(poly[:,0], poly[:,1], c='orange', lw=2)\n",
    "    \n",
    "    if intersection != None:\n",
    "        instn = patches.Polygon(intersection, facecolor='black')\n",
    "        ax.add_patch(instn)\n",
    "    \n",
    "    rect = np.array(rectangle)\n",
    "    ax.fill(rect[:,0], rect[:,1], c='gray', alpha=0.5, lw=2)\n",
    "    \n",
    "    if show_text:\n",
    "        for X in rect:\n",
    "            ax.text(X[0], X[1], '({}, {})'.format(X[0], X[1]))\n",
    "\n",
    "    (xmin, xmax), (ymin, ymax) = get_borders(polygon)\n",
    "    ax.set_xlim(xmin=0.0, xmax=xmax)\n",
    "    ax.set_ylim(ymin=0.0, ymax=ymax)\n",
    "    return fig\n",
    "\n",
    "\n",
    "# Collect bounding box bounds around the parcel\n",
    "def get_borders(polygon):\n",
    "    columns = [np.array(polygon)[:,i] for i in range(np.shape(polygon)[1])]\n",
    "    mins = [np.min(column) for column in columns]\n",
    "    maxs = [np.max(column) for column in columns]\n",
    "    return list(zip(mins, maxs))\n",
    "\n",
    "# Transformation of a problem solution into a rectangle for clipping\n",
    "# Return the rectangle (A(x1,y1), B(x2,y2), C(x3,y3), D(x4,y4))\n",
    "def pos2rect(pos, do_round=True):\n",
    "    # point A\n",
    "    # point O: rectangle center\n",
    "    # angle ∠AOD\n",
    "    xa, ya = pos[0], pos[1]\n",
    "    xo, yo = pos[2], pos[3]\n",
    "    angle = pos[4]\n",
    "\n",
    "    # point D: rotating vector OA on alpha\n",
    "    # point C: symmetrical to A in relation to O\n",
    "    # point B: symmetrical to D in relation to O\n",
    "    \n",
    "    alpha = pi * angle / 180 # angle in radians\n",
    "    xd = cos(alpha) * (xa - xo) - sin(alpha) * (ya - yo) + xo\n",
    "    yd = sin(alpha) * (xa - xo) + cos(alpha) * (ya - yo) + yo\n",
    "    \n",
    "    xc = 2 * xo - xa\n",
    "    yc = 2 * yo - ya\n",
    "    xb = 2 * xo - xd\n",
    "    yb = 2 * yo - yd\n",
    "    \n",
    "    if do_round:\n",
    "    # round for clipping\n",
    "        return [(round(xa), round(ya)),\n",
    "                (round(xb), round(yb)),\n",
    "                (round(xc), round(yc)),\n",
    "                (round(xd), round(yd))]\n",
    "    else:\n",
    "        return [(xa, ya), (xb, yb), (xc, yc), (xd, yd)]\n",
    "\n",
    "def get_intersection(polygon, other):\n",
    "    pc = pyclipper.Pyclipper()\n",
    "    pc.AddPath(polygon, pyclipper.PT_SUBJECT, True)\n",
    "    pc.AddPath(other, pyclipper.PT_CLIP, True)\n",
    "    return pc.Execute(pyclipper.CT_INTERSECTION, \n",
    "                      pyclipper.PFT_EVENODD, \n",
    "                      pyclipper.PFT_EVENODD)\n",
    "\n",
    "\n",
    "def in_polygon(rect, polygon):\n",
    "    try:\n",
    "        clip = get_intersection(polygon, rect)\n",
    "        return (clip != []) and \\\n",
    "               (len(clip[0]) == len(rect)) and \\\n",
    "               all(list(map(lambda e: list(e) in clip[0], rect)))\n",
    "    except pyclipper.ClipperException:\n",
    "        # sys.exit(0)\n",
    "        return False\n",
    "\n",
    "\n",
    "# For further reading\n",
    "# https://en.wikipedia.org/wiki/N-sphere\n",
    "def gen_rand_point_in_circle(point, radius):\n",
    "    R = random.uniform(radius / 2, radius)\n",
    "    x = point[0] + R * np.cos(random.uniform(0, 2 * pi))\n",
    "    y = point[1] + R * np.sin(random.uniform(0, 2 * pi))\n",
    "    return (x, y)"
   ]
  },
  {
   "cell_type": "markdown",
   "metadata": {},
   "source": [
    "# Simulated annealing Functions"
   ]
  },
  {
   "cell_type": "code",
   "execution_count": 4,
   "metadata": {},
   "outputs": [],
   "source": [
    "class simulated_annealing_solver(object):\n",
    "    def __init__(self, polygon,\n",
    "                 p_radius_1, p_radius_2, p_delta,\n",
    "                 init_temp=1e+6, decay=0.98,\n",
    "                 out_iter=1000, in_iter=10):\n",
    "        self.polygon = polygon\n",
    "        (self.xmin, self.xmax), (self.ymin, self.ymax) = get_borders(self.polygon)\n",
    "        self.TEMPERATURE = init_temp\n",
    "        self.DECAY = decay\n",
    "        self.p_radius_1 = p_radius_1\n",
    "        self.p_radius_2 = p_radius_2\n",
    "        self.p_delta = p_delta\n",
    "        self.OUTTER_ITERATIONS = out_iter\n",
    "        self.INNER_ITERATIONS = in_iter\n",
    "        self.history_route = []\n",
    "        self.history_cost = []\n",
    "        self.solution = self.gen_feasible_pos()\n",
    "    \n",
    "    def gen_feasible_pos(self):\n",
    "        while True:\n",
    "            xo = random.uniform(self.xmin, self.xmax)\n",
    "            yo = random.uniform(self.ymin, self.ymax)\n",
    "\n",
    "            xa = xo + pow(-1, random.randint(0, 1)) * \\\n",
    "                          random.uniform(10, min(xo - self.xmin, self.xmax - xo))\n",
    "            ya = yo + pow(-1, random.randint(0, 1)) * \\\n",
    "                          random.uniform(10, min(yo - self.ymin, self.ymax - yo))\n",
    "            angle = random.uniform(0.01, 89.99)\n",
    "            pos = [xa, ya, xo, yo, angle]\n",
    "            rect = pos2rect(pos)\n",
    "\n",
    "            if in_polygon(rect, self.polygon): break\n",
    "        return np.array(pos)\n",
    "    \n",
    "    def new_candidate(self):\n",
    "        t0 = time.time()\n",
    "        xo, yo = self.solution[0], self.solution[1]\n",
    "        xa, ya = self.solution[2], self.solution[3]\n",
    "        angle = self.solution[4]\n",
    "        while True:\n",
    "            angle = random.uniform(angle - self.p_delta,\n",
    "                                   angle + self.p_delta)\n",
    "            pos = [*gen_rand_point_in_circle([xa, ya], self.p_radius_1),\n",
    "                   *gen_rand_point_in_circle([xo, yo], self.p_radius_2),\n",
    "                   angle]\n",
    "            \n",
    "            angle = random.uniform(0, p_delta)\n",
    "            xo_temp, yo_temp = gen_rand_point_in_circle([xo, yo], self.p_radius_1)\n",
    "            # xo_temp = random.uniform(xo - p_radius_1, xo + self.p_radius_1)\n",
    "            # yo_temp = random.uniform(yo - p_radius_1, yo + self.p_radius_1)\n",
    "            xa_temp = xo_temp + random.sample([-1, 1], 1)[0] * random.uniform(self.p_radius_2, min(abs(self.xmin - xo), abs(self.xmax - xo)))\n",
    "            ya_temp = yo_temp + random.sample([-1, 1], 1)[0] * random.uniform(self.p_radius_2, min(abs(self.ymin - yo), abs(self.ymax - yo)))\n",
    "            pos = [xo_temp, yo_temp, xa_temp, ya_temp, angle]\n",
    "            if time.time() - t0 > 0.1: pos = self.gen_feasible_pos()\n",
    "            if in_polygon(pos2rect(pos), self.polygon): break\n",
    "        return np.array(pos)\n",
    "    \n",
    "    def solve(self):\n",
    "        self.t0 = time.time()\n",
    "        for outter in range(self.OUTTER_ITERATIONS):\n",
    "            for inner in range(self.INNER_ITERATIONS):\n",
    "                # candidate = self.gen_feasible_pos()\n",
    "                candidate = self.new_candidate()\n",
    "                area_candidate = area(pos2rect(candidate, do_round=False))\n",
    "                area_solution = area(pos2rect(self.solution, do_round=False))\n",
    "                \n",
    "                DELTA = area_candidate - area_solution\n",
    "                if DELTA > 0:\n",
    "                    self.solution = candidate\n",
    "                    area_solution = area_candidate\n",
    "                elif exp(DELTA / self.TEMPERATURE) > random.uniform(0, 1):\n",
    "                    self.solution = self.gen_feasible_pos()\n",
    "                    area_solution = area(pos2rect(self.solution, do_round=False))\n",
    "                \n",
    "            sys.stdout.write('\\r')\n",
    "            sys.stdout.write(\"# Iteration {}\".format(outter))\n",
    "            sys.stdout.flush()\n",
    "            self.history_route.append(self.solution)\n",
    "            self.history_cost.append(area_solution)\n",
    "\n",
    "            self.TEMPERATURE *= self.DECAY\n",
    "        self.t1 = time.time()\n",
    "        return self.solution\n",
    "        \n",
    "    def print(self):\n",
    "        if self.solution == None:\n",
    "            print('run solve method first')\n",
    "            return\n",
    "        print('Running time: {}'.format(self.t1-self.t0))\n",
    "        print(self.history_cost[-1])\n",
    "        print(self.solution)\n",
    "        \n",
    "    def get_history(self):\n",
    "        return (self.history_cost, self.history_route)"
   ]
  },
  {
   "cell_type": "markdown",
   "metadata": {},
   "source": [
    "# Particle Swarm Optimization (PSO)"
   ]
  },
  {
   "cell_type": "code",
   "execution_count": 5,
   "metadata": {},
   "outputs": [],
   "source": [
    "class PSO(object):\n",
    "    def __init__(self, polygon, dimensions=4, \n",
    "                 num_particles=20, num_iterations=4000, \n",
    "                 psi=0.7, acceleration=(1.47, 1.47)):\n",
    "        self.polygon = polygon\n",
    "        (self.xmin, self.xmax), (self.ymin, self.ymax) = get_borders(self.polygon)\n",
    "        self.DIM = dimensions\n",
    "        self.NUM_PTS = num_particles\n",
    "        self.NUM_ITER = num_iterations\n",
    "        self.swarm = self.init_swarm()\n",
    "        self.psi = psi\n",
    "        self.a_1, self.a_2 = acceleration\n",
    "        \n",
    "        self.history_iterations = []\n",
    "        self.history_values = []\n",
    "\n",
    "\n",
    "    def gen_feasible_pos(self):\n",
    "        while True:\n",
    "            xo = random.uniform(self.xmin, self.xmax)\n",
    "            yo = random.uniform(self.ymin, self.ymax)\n",
    "\n",
    "            xa = xo + pow(-1, random.randint(0, 1)) * \\\n",
    "                          random.uniform(10, min(xo - self.xmin, self.xmax - xo))\n",
    "            ya = yo + pow(-1, random.randint(0, 1)) * \\\n",
    "                          random.uniform(10, min(yo - self.ymin, self.ymax - yo))\n",
    "            angle = random.uniform(0.01, 89.99)\n",
    "            pos = [xa, ya, xo, yo, angle]\n",
    "            rect = pos2rect(pos)\n",
    "\n",
    "            if in_polygon(rect, self.polygon): break\n",
    "        return np.array(pos)\n",
    "\n",
    "    def init_particle(self, bests=None):\n",
    "        x = self.gen_feasible_pos()\n",
    "        f_x = area(pos2rect(x))\n",
    "        if bests == None:\n",
    "            return {'v': np.zeros(self.DIM),\n",
    "                    'x': x,\n",
    "                    'f_x': f_x,\n",
    "                    'best_x': x,\n",
    "                    'best_f_x': f_x,\n",
    "                    'best_x_for_swarm': []}\n",
    "        else:\n",
    "            return {'v': np.zeros(self.DIM),\n",
    "                    'x': x,\n",
    "                    'f_x': f_x,\n",
    "                    'best_x': bests[0],\n",
    "                    'best_f_x': bests[1],\n",
    "                    'best_x_for_swarm': bests[2]}\n",
    "\n",
    "\n",
    "    def init_swarm(self):\n",
    "        return [self.init_particle() for i in range(self.NUM_PTS)]\n",
    "\n",
    "\n",
    "    def best_particle(self, p1, p2):\n",
    "        return p1 if p1['f_x'] > p2['f_x'] else p2\n",
    "\n",
    "\n",
    "    def get_best_particle(self, swarm):\n",
    "        return reduce(lambda acc, x: self.best_particle(acc, x), swarm)\n",
    "    \n",
    "    \n",
    "    def update(self, best_particle):\n",
    "        for particle in self.swarm:\n",
    "            if particle['f_x'] > particle['best_f_x']:\n",
    "                particle['best_x'] = particle['x'].copy()\n",
    "                particle['best_f_x'] = particle['f_x']\n",
    "            particle['best_x_for_swarm'] = best_particle['best_x']\n",
    "    \n",
    "    def local_update(self, num_nb):\n",
    "        for idx, particle in enumerate(self.swarm):\n",
    "            start_idx = (idx - num_nb) % self.NUM_PTS\n",
    "            nbhood = circ_slice(self.swarm, start_idx, num_nb)\n",
    "            best_nb = self.best_particle(nbhood)\n",
    "\n",
    "            if particle['f_x'] > particle['best_f_x']:\n",
    "                particle['best_x'] = particle['x'].copy()\n",
    "                particle['best_f_x'] = particle['f_x']\n",
    "            particle['best_x_for_swarm'] = best_nb['best_x']\n",
    "    \n",
    "    def move(self, particle):\n",
    "        nv = dict(particle)\n",
    "        v = np.zeros(self.DIM)\n",
    "        x = np.zeros(self.DIM)\n",
    "        \n",
    "        for i in range(self.DIM):\n",
    "            v[i] = self.psi * particle['v'][i] + \\\n",
    "                   self.a_1 * random.uniform(0, 1) * (particle['best_x'][i] - particle['x'][i]) + \\\n",
    "                   self.a_2 * random.uniform(0, 1) * (particle['best_x_for_swarm'][i] - particle['x'][i])\n",
    "            x[i] = round(particle['x'][i] + v[i])\n",
    "        \n",
    "        if not in_polygon(pos2rect(x), self.polygon):\n",
    "            x = particle['x']\n",
    "#             if random.uniform(0, 1) > 0.1:\n",
    "#                 x = self.gen_feasible_pos()\n",
    "#             else:\n",
    "#                 x = particle['x']\n",
    "            \n",
    "        nv['v'] = v\n",
    "        nv['x'] = x\n",
    "        nv['f_x'] = area(pos2rect(x))\n",
    "        return nv\n",
    "    \n",
    "    def solve(self):\n",
    "        v_move = np.vectorize(self.move)\n",
    "        \n",
    "        self.t0 = time.time()\n",
    "        self.solution = self.get_best_particle(self.swarm)\n",
    "        for i in range(self.NUM_ITER):\n",
    "            self.update(self.solution)\n",
    "            self.swarm = v_move(self.swarm)\n",
    "            candidate = self.get_best_particle(self.swarm)\n",
    "            if (candidate['best_f_x'] > self.solution['best_f_x']):\n",
    "                self.solution = candidate\n",
    "\n",
    "            if i % 10 == 0:\n",
    "                self.history_iterations.append(i)\n",
    "                self.history_values.append(self.solution['best_f_x'])\n",
    "        self.t1 = time.time()\n",
    "        \n",
    "        return self.solution\n",
    "    \n",
    "    def solve_with_nb(self, num_nb=3):\n",
    "        if num_nb + 1 > self.NUM_PTS:\n",
    "            self.solve()\n",
    "            return\n",
    "        \n",
    "        v_move = np.vectorize(self.move)\n",
    "        \n",
    "        self.t0 = time.time()\n",
    "        for i in range(self.NUM_ITER):\n",
    "            self.local_update(num_nb)\n",
    "            self.swarm = v_move(self.swarm)\n",
    "\n",
    "            if i % 10 == 0:\n",
    "                self.history_iterations.append(i)\n",
    "                self.history_values.append(self.swarm[0]['best_f_x'])\n",
    "        self.t1 = time.time()\n",
    "        \n",
    "        self.solution = self.get_best_particle(self.swarm)\n",
    "        \n",
    "    def print(self):\n",
    "        if self.solution == None:\n",
    "            print('run solve method first')\n",
    "            return\n",
    "        print('Running time: {}'.format(self.t1 - self.t0))\n",
    "        print('x:', self.solution['x'])\n",
    "        print('f(x):', self.solution['f_x'], '\\n') #self.history_values[-1]\n",
    "        print(self.solution)\n",
    "    \n",
    "    def draw_logs(self):\n",
    "        fig, ax = plt.subplots(figsize=(10,6))\n",
    "        ax.semilogy(self.history_iterations, self.history_values)\n",
    "        ax.set_title('Evolution of the best distance')\n",
    "        ax.set_xlabel('Iteration')\n",
    "        ax.set_ylabel('Distance')\n",
    "        return fig\n",
    "    \n",
    "    def get_history(self):\n",
    "        return (self.history_iterations, self.history_values)\n",
    "    \n",
    "    def get_solution(self):\n",
    "        return self.solution"
   ]
  },
  {
   "cell_type": "code",
   "execution_count": 6,
   "metadata": {},
   "outputs": [
    {
     "name": "stdout",
     "output_type": "stream",
     "text": [
      "[(174, 102), (265, 154), (214, 244), (123, 192)]\n",
      "10842.0\n"
     ]
    }
   ],
   "source": [
    "rect_path = pos2rect(rect)\n",
    "print(rect_path)\n",
    "pa, pb, pc, pd = np.array(rect_path)\n",
    "\n",
    "print(area(rect_path))"
   ]
  },
  {
   "cell_type": "markdown",
   "metadata": {},
   "source": [
    "# Polygons Declaration [0,1, 2 , 3]"
   ]
  },
  {
   "cell_type": "code",
   "execution_count": 7,
   "metadata": {},
   "outputs": [
    {
     "data": {
      "text/plain": [
       "[152100.0, 81100.0, 52500.0, 116650.0]"
      ]
     },
     "execution_count": 7,
     "metadata": {},
     "output_type": "execute_result"
    }
   ],
   "source": [
    "polygons = [[(10,10),(10,400),(400,400),(400,10)],\n",
    "            [(10,10),(10,300),(250,300),(350,130),(200,10)],\n",
    "            [(50,150),(200,50),(350,150),(350,300),(250,300),(200,250),(150,350),(100,250),(100,200)],\n",
    "            [(50,50),(50,400),(220,310),(220,170),(330,170),(330,480),(450,480),(450,50)]]\n",
    "areas = list(map(area, polygons))\n",
    "\n",
    "areas"
   ]
  },
  {
   "cell_type": "markdown",
   "metadata": {},
   "source": [
    "# Optimization  the algorithm \"Particle Swarm Optimization (PSO)\""
   ]
  },
  {
   "cell_type": "code",
   "execution_count": 8,
   "metadata": {},
   "outputs": [
    {
     "name": "stdout",
     "output_type": "stream",
     "text": [
      "Coverage: 0.636498150431566\n"
     ]
    }
   ],
   "source": [
    "polygon = polygons[1]\n",
    "\n",
    "dimensions = 5\n",
    "num_particles = 20\n",
    "num_iterations = 5000\n",
    "psi = 0.3\n",
    "acceleration = (1, 2)\n",
    "\n",
    "pso = PSO(polygon, dimensions=dimensions, \n",
    "          num_particles=num_particles, num_iterations=num_iterations, \n",
    "          psi=psi, acceleration=acceleration)\n",
    "\n",
    "solution = pso.solve()\n",
    "print('Coverage:', solution['f_x'] / area(polygon))"
   ]
  },
  {
   "cell_type": "markdown",
   "metadata": {},
   "source": [
    "### For plotiing the polygone and rectengle"
   ]
  },
  {
   "cell_type": "code",
   "execution_count": 9,
   "metadata": {},
   "outputs": [
    {
     "data": {
      "image/png": "[encoded data removed]",
      "text/plain": [
       "<Figure size 720x720 with 1 Axes>"
      ]
     },
     "metadata": {
      "needs_background": "light"
     },
     "output_type": "display_data"
    }
   ],
   "source": [
    "draw_solution(polygon, pos2rect(solution['x']))\n",
    "plt.title('The Rectangle with polygone')\n",
    "plt.draw()\n",
    "plt.pause(0.01)\n",
    "\n"
   ]
  },
  {
   "cell_type": "markdown",
   "metadata": {},
   "source": [
    "### Print the Particle Swarm Optimization (PSO)"
   ]
  },
  {
   "cell_type": "code",
   "execution_count": 10,
   "metadata": {
    "scrolled": true
   },
   "outputs": [
    {
     "name": "stdout",
     "output_type": "stream",
     "text": [
      "{'v': array([-1.74799098e+000,  3.55005011e-002, -7.62593365e-002,\n",
      "       -1.89211337e-288,  7.38956241e-256]), 'x': array([188., 300.,  99., 155.,  63.]), 'f_x': 51620.0, 'best_x': array([188., 300.,  99., 155.,  63.]), 'best_f_x': 51620.0, 'best_x_for_swarm': array([188., 300.,  99., 155.,  63.])}\n",
      "\n",
      "Coverage: 0.636498150431566\n",
      "Area: 51620.0\n"
     ]
    }
   ],
   "source": [
    "print(solution)\n",
    "\n",
    "print('\\nCoverage:', solution['f_x']/ area(polygon))\n",
    "\n",
    "print('Area:', solution['f_x'])"
   ]
  },
  {
   "cell_type": "markdown",
   "metadata": {},
   "source": [
    "# Optimization  the algorithm \"Simulated Annealing\""
   ]
  },
  {
   "cell_type": "code",
   "execution_count": 11,
   "metadata": {},
   "outputs": [
    {
     "name": "stdout",
     "output_type": "stream",
     "text": [
      "# Iteration 999 Coverage: 0.4434155363748459\n"
     ]
    }
   ],
   "source": [
    "polygon = polygons[1]\n",
    "\n",
    "init_temp = areas[0] / 2\n",
    "in_iter = 100\n",
    "out_iter = 1000\n",
    "decay = .98\n",
    "\n",
    "# Parameters for radius neighbourhood\n",
    "# p_radius_1 = 50\n",
    "# p_radius_2 = 100\n",
    "# p_delta = 15\n",
    "\n",
    "# Parameters for Can implementation\n",
    "p_radius_1 = 30\n",
    "p_radius_2 = 20\n",
    "p_delta = 89.99\n",
    "\n",
    "sao = simulated_annealing_solver(polygon,\n",
    "                                 p_radius_1, p_radius_2, p_delta,\n",
    "                                 init_temp=init_temp, decay=decay,\n",
    "                                 out_iter=out_iter, in_iter=in_iter)\n",
    "\n",
    "solution = sao.solve()\n",
    "print(' Coverage:', area(pos2rect(solution)) / area(polygon))\n"
   ]
  },
  {
   "cell_type": "markdown",
   "metadata": {},
   "source": [
    "###  For Plotting the Polygone and rectengle"
   ]
  },
  {
   "cell_type": "code",
   "execution_count": 26,
   "metadata": {},
   "outputs": [
    {
     "data": {
      "image/png": "[encoded data removed]",
      "text/plain": [
       "<Figure size 720x720 with 1 Axes>"
      ]
     },
     "metadata": {
      "needs_background": "light"
     },
     "output_type": "display_data"
    }
   ],
   "source": [
    "draw_solution(polygon, pos2rect((solution)))\n",
    "plt.title('The Rectangle with polygone')\n",
    "plt.draw()\n",
    "plt.pause(0.01)"
   ]
  },
  {
   "cell_type": "code",
   "execution_count": 28,
   "metadata": {},
   "outputs": [
    {
     "name": "stdout",
     "output_type": "stream",
     "text": [
      "[176.97935255 277.40738881 103.0416247  154.35142537  61.64620317]\n",
      "\n",
      "Coverage: 0.44680641183723796\n",
      "Area: 36236.0\n"
     ]
    }
   ],
   "source": [
    "print(solution)\n",
    "\n",
    "print('\\nCoverage:', area(pos2rect(solution)) / area(polygon))\n",
    "print('Area:', area(pos2rect(solution)))"
   ]
  },
  {
   "cell_type": "markdown",
   "metadata": {},
   "source": [
    "# sample of 30 results by PSO"
   ]
  },
  {
   "cell_type": "code",
   "execution_count": 32,
   "metadata": {},
   "outputs": [
    {
     "name": "stdout",
     "output_type": "stream",
     "text": [
      "Coverage: 0.4176596656665238\n",
      "Coverage: 0.32012001714530647\n",
      "Coverage: 0.3357736819545649\n",
      "Coverage: 0.3793570510072868\n",
      "Coverage: 0.37668238319759967\n",
      "Coverage: 0.33688812687526787\n",
      "Coverage: 0.3753107586798114\n",
      "Coverage: 0.43093013287612514\n",
      "Coverage: 0.4026403771967424\n",
      "Coverage: 0.39434204886412344\n",
      "Coverage: 0.27257608229747105\n",
      "Coverage: 0.3600514359194171\n",
      "Coverage: 0.4386626660951565\n",
      "Coverage: 0.3458894127732533\n",
      "Coverage: 0.15225032147449635\n",
      "Coverage: 0.23118731247321045\n",
      "Coverage: 0.408058294042006\n",
      "Coverage: 0.3575825117873982\n",
      "Coverage: 0.3753107586798114\n",
      "Coverage: 0.42234033433347623\n",
      "Coverage: 0.39297042434633517\n",
      "Coverage: 0.3354479211315902\n",
      "Coverage: 0.3730818688384055\n",
      "Coverage: 0.3600514359194171\n",
      "Coverage: 0.36821260180025717\n",
      "Coverage: 0.38796399485640803\n",
      "Coverage: 0.24891555936562365\n",
      "Coverage: 0.3971881697385341\n",
      "Coverage: 0.30532361765966565\n",
      "Coverage: 0.24277753964852122\n"
     ]
    }
   ],
   "source": [
    "pso_solutions_list = []\n",
    "for i in range(30):\n",
    "    polygon = polygons[3]\n",
    "\n",
    "    dimensions = 5\n",
    "    num_particles = 20\n",
    "    num_iterations = 5000\n",
    "    psi = 0.2\n",
    "    acceleration = (1, 2)\n",
    "\n",
    "    pso = PSO(polygon, dimensions=dimensions, \n",
    "              num_particles=num_particles, num_iterations=num_iterations, \n",
    "              psi=psi, acceleration=acceleration)\n",
    "\n",
    "    solution = pso.solve()\n",
    "    print('Coverage:', solution['f_x'] / area(polygon))\n",
    "\n",
    "#     draw_solution(polygon, pos2rect(solution['x'])) # Uncomment this to see plots\n",
    "    pso_solutions_list.append(solution['f_x'] / area(polygon))\n"
   ]
  },
  {
   "cell_type": "code",
   "execution_count": 34,
   "metadata": {},
   "outputs": [
    {
     "name": "stdout",
     "output_type": "stream",
     "text": [
      "[0.4176596656665238, 0.32012001714530647, 0.3357736819545649, 0.3793570510072868, 0.37668238319759967, 0.33688812687526787, 0.3753107586798114, 0.43093013287612514, 0.4026403771967424, 0.39434204886412344, 0.27257608229747105, 0.3600514359194171, 0.4386626660951565, 0.3458894127732533, 0.15225032147449635, 0.23118731247321045, 0.408058294042006, 0.3575825117873982, 0.3753107586798114, 0.42234033433347623, 0.39297042434633517, 0.3354479211315902, 0.3730818688384055, 0.3600514359194171, 0.36821260180025717, 0.38796399485640803, 0.24891555936562365, 0.3971881697385341, 0.30532361765966565, 0.24277753964852122]\n"
     ]
    }
   ],
   "source": [
    "print(pso_solutions_list)"
   ]
  },
  {
   "cell_type": "markdown",
   "metadata": {},
   "source": [
    "# sample of 30 results by Simulated Annealing"
   ]
  },
  {
   "cell_type": "code",
   "execution_count": 29,
   "metadata": {},
   "outputs": [
    {
     "name": "stdout",
     "output_type": "stream",
     "text": [
      "# Iteration 999Coverage: 0.18383197599657095\n",
      "# Iteration 999Coverage: 0.08617659665666524\n",
      "# Iteration 999Coverage: 0.2180282897556794\n",
      "# Iteration 999Coverage: 0.14204029147021002\n",
      "# Iteration 999Coverage: 0.16130304329189885\n",
      "# Iteration 999Coverage: 0.25122160308615515\n",
      "# Iteration 999Coverage: 0.2222717531075868\n",
      "# Iteration 999Coverage: 0.2744706386626661\n",
      "# Iteration 999Coverage: 0.19090870124303472\n",
      "# Iteration 999Coverage: 0.18434633519074153\n",
      "# Iteration 999Coverage: 0.18995285040720103\n",
      "# Iteration 999Coverage: 0.26436776682383195\n",
      "# Iteration 999Coverage: 0.20778396913844835\n",
      "# Iteration 999Coverage: 0.19970852978997\n",
      "# Iteration 999Coverage: 0.1847321045863695\n",
      "# Iteration 999Coverage: 0.1757179597085298\n",
      "# Iteration 999Coverage: 0.20920702957565365\n",
      "# Iteration 999Coverage: 0.22100728675525075\n",
      "# Iteration 999Coverage: 0.21894556365195028\n",
      "# Iteration 999Coverage: 0.1620488641234462\n",
      "# Iteration 999Coverage: 0.11287612516073725\n",
      "# Iteration 999Coverage: 0.16807543934847835\n",
      "# Iteration 999Coverage: 0.2157136733819117\n",
      "# Iteration 999Coverage: 0.2521131590227175\n",
      "# Iteration 999Coverage: 0.1894470638662666\n",
      "# Iteration 999Coverage: 0.15329189884269181\n",
      "# Iteration 999Coverage: 0.25004714959279895\n",
      "# Iteration 999Coverage: 0.17512216030861552\n",
      "# Iteration 999Coverage: 0.13733390484354907\n",
      "# Iteration 999Coverage: 0.11560222888984141\n",
      "[0.18383197599657095, 0.08617659665666524, 0.2180282897556794, 0.14204029147021002, 0.16130304329189885, 0.25122160308615515, 0.2222717531075868, 0.2744706386626661, 0.19090870124303472, 0.18434633519074153, 0.18995285040720103, 0.26436776682383195, 0.20778396913844835, 0.19970852978997, 0.1847321045863695, 0.1757179597085298, 0.20920702957565365, 0.22100728675525075, 0.21894556365195028, 0.1620488641234462, 0.11287612516073725, 0.16807543934847835, 0.2157136733819117, 0.2521131590227175, 0.1894470638662666, 0.15329189884269181, 0.25004714959279895, 0.17512216030861552, 0.13733390484354907, 0.11560222888984141]\n"
     ]
    }
   ],
   "source": [
    "polygon = polygons[3]\n",
    "\n",
    "sao_solutions_list = []\n",
    "for i in range(30):\n",
    "    init_temp = areas[0] / 2\n",
    "    in_iter = 100\n",
    "    out_iter = 1000\n",
    "    decay = 0.98\n",
    "\n",
    "    # Parameters for radius neighbourhood\n",
    "    # p_radius_1 = 50\n",
    "    # p_radius_2 = 100\n",
    "    # p_delta = 15\n",
    "\n",
    "    # Parameters for Can implementation\n",
    "    p_radius_1 = 30\n",
    "    p_radius_2 = 20\n",
    "    p_delta = 89.99\n",
    "\n",
    "    sao = simulated_annealing_solver(polygon,\n",
    "                                     p_radius_1, p_radius_2, p_delta,\n",
    "                                     init_temp=init_temp, decay=decay,\n",
    "                                     out_iter=out_iter, in_iter=in_iter)\n",
    "\n",
    "    solution = sao.solve()\n",
    "    print('Coverage:', area(pos2rect(solution)) / area(polygon))\n",
    "    # draw_solution(polygon, pos2rect((solution))) # Uncomment this to see plots\n",
    "    sao_solutions_list.append(area(pos2rect(solution)) / area(polygon))\n"
   ]
  },
  {
   "cell_type": "code",
   "execution_count": 41,
   "metadata": {},
   "outputs": [
    {
     "name": "stdout",
     "output_type": "stream",
     "text": [
      "[0.18383197599657095, 0.08617659665666524, 0.2180282897556794, 0.14204029147021002, 0.16130304329189885, 0.25122160308615515, 0.2222717531075868, 0.2744706386626661, 0.19090870124303472, 0.18434633519074153, 0.18995285040720103, 0.26436776682383195, 0.20778396913844835, 0.19970852978997, 0.1847321045863695, 0.1757179597085298, 0.20920702957565365, 0.22100728675525075, 0.21894556365195028, 0.1620488641234462, 0.11287612516073725, 0.16807543934847835, 0.2157136733819117, 0.2521131590227175, 0.1894470638662666, 0.15329189884269181, 0.25004714959279895, 0.17512216030861552, 0.13733390484354907, 0.11560222888984141]\n"
     ]
    }
   ],
   "source": [
    "print(sao_solutions_list)"
   ]
  },
  {
   "cell_type": "markdown",
   "metadata": {},
   "source": [
    "# Tuckey boxes corresponding to the results on the same chart"
   ]
  },
  {
   "cell_type": "markdown",
   "metadata": {},
   "source": [
    "### Simlated Anneling "
   ]
  },
  {
   "cell_type": "code",
   "execution_count": 43,
   "metadata": {},
   "outputs": [
    {
     "data": {
      "application/vnd.plotly.v1+json": {
       "config": {
        "plotlyServerURL": "https://plot.ly"
       },
       "data": [
        {
         "alignmentgroup": "True",
         "boxpoints": "all",
         "hovertemplate": "quartilemethod=linear<br>value=%{y}<extra></extra>",
         "jitter": 0,
         "legendgroup": "linear",
         "marker": {
          "color": "#636efa"
         },
         "name": "linear",
         "notched": false,
         "offsetgroup": "linear",
         "orientation": "v",
         "quartilemethod": "linear",
         "showlegend": true,
         "type": "box",
         "x0": " ",
         "xaxis": "x",
         "y": [
          0.18383197599657095,
          0.08617659665666524,
          0.2180282897556794,
          0.14204029147021002,
          0.16130304329189885,
          0.25122160308615515,
          0.2222717531075868,
          0.2744706386626661,
          0.19090870124303472,
          0.18434633519074153,
          0.18995285040720103,
          0.26436776682383195,
          0.20778396913844835,
          0.19970852978997,
          0.1847321045863695,
          0.1757179597085298,
          0.20920702957565365,
          0.22100728675525075,
          0.21894556365195028,
          0.1620488641234462,
          0.11287612516073725,
          0.16807543934847835,
          0.2157136733819117,
          0.2521131590227175,
          0.1894470638662666,
          0.15329189884269181,
          0.25004714959279895,
          0.17512216030861552,
          0.13733390484354907,
          0.11560222888984141
         ],
         "y0": " ",
         "yaxis": "y"
        },
        {
         "alignmentgroup": "True",
         "boxpoints": "all",
         "hovertemplate": "quartilemethod=inclusive<br>value=%{y}<extra></extra>",
         "jitter": 0,
         "legendgroup": "inclusive",
         "marker": {
          "color": "#EF553B"
         },
         "name": "inclusive",
         "notched": false,
         "offsetgroup": "inclusive",
         "orientation": "v",
         "quartilemethod": "inclusive",
         "showlegend": true,
         "type": "box",
         "x0": " ",
         "xaxis": "x2",
         "y": [
          0.18383197599657095,
          0.08617659665666524,
          0.2180282897556794,
          0.14204029147021002,
          0.16130304329189885,
          0.25122160308615515,
          0.2222717531075868,
          0.2744706386626661,
          0.19090870124303472,
          0.18434633519074153,
          0.18995285040720103,
          0.26436776682383195,
          0.20778396913844835,
          0.19970852978997,
          0.1847321045863695,
          0.1757179597085298,
          0.20920702957565365,
          0.22100728675525075,
          0.21894556365195028,
          0.1620488641234462,
          0.11287612516073725,
          0.16807543934847835,
          0.2157136733819117,
          0.2521131590227175,
          0.1894470638662666,
          0.15329189884269181,
          0.25004714959279895,
          0.17512216030861552,
          0.13733390484354907,
          0.11560222888984141
         ],
         "y0": " ",
         "yaxis": "y2"
        },
        {
         "alignmentgroup": "True",
         "boxpoints": "all",
         "hovertemplate": "quartilemethod=exclusive<br>value=%{y}<extra></extra>",
         "jitter": 0,
         "legendgroup": "exclusive",
         "marker": {
          "color": "#00cc96"
         },
         "name": "exclusive",
         "notched": false,
         "offsetgroup": "exclusive",
         "orientation": "v",
         "quartilemethod": "exclusive",
         "showlegend": true,
         "type": "box",
         "x0": " ",
         "xaxis": "x3",
         "y": [
          0.18383197599657095,
          0.08617659665666524,
          0.2180282897556794,
          0.14204029147021002,
          0.16130304329189885,
          0.25122160308615515,
          0.2222717531075868,
          0.2744706386626661,
          0.19090870124303472,
          0.18434633519074153,
          0.18995285040720103,
          0.26436776682383195,
          0.20778396913844835,
          0.19970852978997,
          0.1847321045863695,
          0.1757179597085298,
          0.20920702957565365,
          0.22100728675525075,
          0.21894556365195028,
          0.1620488641234462,
          0.11287612516073725,
          0.16807543934847835,
          0.2157136733819117,
          0.2521131590227175,
          0.1894470638662666,
          0.15329189884269181,
          0.25004714959279895,
          0.17512216030861552,
          0.13733390484354907,
          0.11560222888984141
         ],
         "y0": " ",
         "yaxis": "y3"
        }
       ],
       "layout": {
        "annotations": [
         {
          "font": {},
          "showarrow": false,
          "text": "quartilemethod=linear",
          "x": 0.15999999999999998,
          "xanchor": "center",
          "xref": "paper",
          "y": 1,
          "yanchor": "bottom",
          "yref": "paper"
         },
         {
          "font": {},
          "showarrow": false,
          "text": "quartilemethod=inclusive",
          "x": 0.49999999999999994,
          "xanchor": "center",
          "xref": "paper",
          "y": 1,
          "yanchor": "bottom",
          "yref": "paper"
         },
         {
          "font": {},
          "showarrow": false,
          "text": "quartilemethod=exclusive",
          "x": 0.8399999999999999,
          "xanchor": "center",
          "xref": "paper",
          "y": 1,
          "yanchor": "bottom",
          "yref": "paper"
         }
        ],
        "boxmode": "overlay",
        "legend": {
         "title": {
          "text": "quartilemethod"
         },
         "tracegroupgap": 0
        },
        "margin": {
         "t": 60
        },
        "template": {
         "data": {
          "bar": [
           {
            "error_x": {
             "color": "#2a3f5f"
            },
            "error_y": {
             "color": "#2a3f5f"
            },
            "marker": {
             "line": {
              "color": "#E5ECF6",
              "width": 0.5
             }
            },
            "type": "bar"
           }
          ],
          "barpolar": [
           {
            "marker": {
             "line": {
              "color": "#E5ECF6",
              "width": 0.5
             }
            },
            "type": "barpolar"
           }
          ],
          "carpet": [
           {
            "aaxis": {
             "endlinecolor": "#2a3f5f",
             "gridcolor": "white",
             "linecolor": "white",
             "minorgridcolor": "white",
             "startlinecolor": "#2a3f5f"
            },
            "baxis": {
             "endlinecolor": "#2a3f5f",
             "gridcolor": "white",
             "linecolor": "white",
             "minorgridcolor": "white",
             "startlinecolor": "#2a3f5f"
            },
            "type": "carpet"
           }
          ],
          "choropleth": [
           {
            "colorbar": {
             "outlinewidth": 0,
             "ticks": ""
            },
            "type": "choropleth"
           }
          ],
          "contour": [
           {
            "colorbar": {
             "outlinewidth": 0,
             "ticks": ""
            },
            "colorscale": [
             [
              0,
              "#0d0887"
             ],
             [
              0.1111111111111111,
              "#46039f"
             ],
             [
              0.2222222222222222,
              "#7201a8"
             ],
             [
              0.3333333333333333,
              "#9c179e"
             ],
             [
              0.4444444444444444,
              "#bd3786"
             ],
             [
              0.5555555555555556,
              "#d8576b"
             ],
             [
              0.6666666666666666,
              "#ed7953"
             ],
             [
              0.7777777777777778,
              "#fb9f3a"
             ],
             [
              0.8888888888888888,
              "#fdca26"
             ],
             [
              1,
              "#f0f921"
             ]
            ],
            "type": "contour"
           }
          ],
          "contourcarpet": [
           {
            "colorbar": {
             "outlinewidth": 0,
             "ticks": ""
            },
            "type": "contourcarpet"
           }
          ],
          "heatmap": [
           {
            "colorbar": {
             "outlinewidth": 0,
             "ticks": ""
            },
            "colorscale": [
             [
              0,
              "#0d0887"
             ],
             [
              0.1111111111111111,
              "#46039f"
             ],
             [
              0.2222222222222222,
              "#7201a8"
             ],
             [
              0.3333333333333333,
              "#9c179e"
             ],
             [
              0.4444444444444444,
              "#bd3786"
             ],
             [
              0.5555555555555556,
              "#d8576b"
             ],
             [
              0.6666666666666666,
              "#ed7953"
             ],
             [
              0.7777777777777778,
              "#fb9f3a"
             ],
             [
              0.8888888888888888,
              "#fdca26"
             ],
             [
              1,
              "#f0f921"
             ]
            ],
            "type": "heatmap"
           }
          ],
          "heatmapgl": [
           {
            "colorbar": {
             "outlinewidth": 0,
             "ticks": ""
            },
            "colorscale": [
             [
              0,
              "#0d0887"
             ],
             [
              0.1111111111111111,
              "#46039f"
             ],
             [
              0.2222222222222222,
              "#7201a8"
             ],
             [
              0.3333333333333333,
              "#9c179e"
             ],
             [
              0.4444444444444444,
              "#bd3786"
             ],
             [
              0.5555555555555556,
              "#d8576b"
             ],
             [
              0.6666666666666666,
              "#ed7953"
             ],
             [
              0.7777777777777778,
              "#fb9f3a"
             ],
             [
              0.8888888888888888,
              "#fdca26"
             ],
             [
              1,
              "#f0f921"
             ]
            ],
            "type": "heatmapgl"
           }
          ],
          "histogram": [
           {
            "marker": {
             "colorbar": {
              "outlinewidth": 0,
              "ticks": ""
             }
            },
            "type": "histogram"
           }
          ],
          "histogram2d": [
           {
            "colorbar": {
             "outlinewidth": 0,
             "ticks": ""
            },
            "colorscale": [
             [
              0,
              "#0d0887"
             ],
             [
              0.1111111111111111,
              "#46039f"
             ],
             [
              0.2222222222222222,
              "#7201a8"
             ],
             [
              0.3333333333333333,
              "#9c179e"
             ],
             [
              0.4444444444444444,
              "#bd3786"
             ],
             [
              0.5555555555555556,
              "#d8576b"
             ],
             [
              0.6666666666666666,
              "#ed7953"
             ],
             [
              0.7777777777777778,
              "#fb9f3a"
             ],
             [
              0.8888888888888888,
              "#fdca26"
             ],
             [
              1,
              "#f0f921"
             ]
            ],
            "type": "histogram2d"
           }
          ],
          "histogram2dcontour": [
           {
            "colorbar": {
             "outlinewidth": 0,
             "ticks": ""
            },
            "colorscale": [
             [
              0,
              "#0d0887"
             ],
             [
              0.1111111111111111,
              "#46039f"
             ],
             [
              0.2222222222222222,
              "#7201a8"
             ],
             [
              0.3333333333333333,
              "#9c179e"
             ],
             [
              0.4444444444444444,
              "#bd3786"
             ],
             [
              0.5555555555555556,
              "#d8576b"
             ],
             [
              0.6666666666666666,
              "#ed7953"
             ],
             [
              0.7777777777777778,
              "#fb9f3a"
             ],
             [
              0.8888888888888888,
              "#fdca26"
             ],
             [
              1,
              "#f0f921"
             ]
            ],
            "type": "histogram2dcontour"
           }
          ],
          "mesh3d": [
           {
            "colorbar": {
             "outlinewidth": 0,
             "ticks": ""
            },
            "type": "mesh3d"
           }
          ],
          "parcoords": [
           {
            "line": {
             "colorbar": {
              "outlinewidth": 0,
              "ticks": ""
             }
            },
            "type": "parcoords"
           }
          ],
          "pie": [
           {
            "automargin": true,
            "type": "pie"
           }
          ],
          "scatter": [
           {
            "marker": {
             "colorbar": {
              "outlinewidth": 0,
              "ticks": ""
             }
            },
            "type": "scatter"
           }
          ],
          "scatter3d": [
           {
            "line": {
             "colorbar": {
              "outlinewidth": 0,
              "ticks": ""
             }
            },
            "marker": {
             "colorbar": {
              "outlinewidth": 0,
              "ticks": ""
             }
            },
            "type": "scatter3d"
           }
          ],
          "scattercarpet": [
           {
            "marker": {
             "colorbar": {
              "outlinewidth": 0,
              "ticks": ""
             }
            },
            "type": "scattercarpet"
           }
          ],
          "scattergeo": [
           {
            "marker": {
             "colorbar": {
              "outlinewidth": 0,
              "ticks": ""
             }
            },
            "type": "scattergeo"
           }
          ],
          "scattergl": [
           {
            "marker": {
             "colorbar": {
              "outlinewidth": 0,
              "ticks": ""
             }
            },
            "type": "scattergl"
           }
          ],
          "scattermapbox": [
           {
            "marker": {
             "colorbar": {
              "outlinewidth": 0,
              "ticks": ""
             }
            },
            "type": "scattermapbox"
           }
          ],
          "scatterpolar": [
           {
            "marker": {
             "colorbar": {
              "outlinewidth": 0,
              "ticks": ""
             }
            },
            "type": "scatterpolar"
           }
          ],
          "scatterpolargl": [
           {
            "marker": {
             "colorbar": {
              "outlinewidth": 0,
              "ticks": ""
             }
            },
            "type": "scatterpolargl"
           }
          ],
          "scatterternary": [
           {
            "marker": {
             "colorbar": {
              "outlinewidth": 0,
              "ticks": ""
             }
            },
            "type": "scatterternary"
           }
          ],
          "surface": [
           {
            "colorbar": {
             "outlinewidth": 0,
             "ticks": ""
            },
            "colorscale": [
             [
              0,
              "#0d0887"
             ],
             [
              0.1111111111111111,
              "#46039f"
             ],
             [
              0.2222222222222222,
              "#7201a8"
             ],
             [
              0.3333333333333333,
              "#9c179e"
             ],
             [
              0.4444444444444444,
              "#bd3786"
             ],
             [
              0.5555555555555556,
              "#d8576b"
             ],
             [
              0.6666666666666666,
              "#ed7953"
             ],
             [
              0.7777777777777778,
              "#fb9f3a"
             ],
             [
              0.8888888888888888,
              "#fdca26"
             ],
             [
              1,
              "#f0f921"
             ]
            ],
            "type": "surface"
           }
          ],
          "table": [
           {
            "cells": {
             "fill": {
              "color": "#EBF0F8"
             },
             "line": {
              "color": "white"
             }
            },
            "header": {
             "fill": {
              "color": "#C8D4E3"
             },
             "line": {
              "color": "white"
             }
            },
            "type": "table"
           }
          ]
         },
         "layout": {
          "annotationdefaults": {
           "arrowcolor": "#2a3f5f",
           "arrowhead": 0,
           "arrowwidth": 1
          },
          "coloraxis": {
           "colorbar": {
            "outlinewidth": 0,
            "ticks": ""
           }
          },
          "colorscale": {
           "diverging": [
            [
             0,
             "#8e0152"
            ],
            [
             0.1,
             "#c51b7d"
            ],
            [
             0.2,
             "#de77ae"
            ],
            [
             0.3,
             "#f1b6da"
            ],
            [
             0.4,
             "#fde0ef"
            ],
            [
             0.5,
             "#f7f7f7"
            ],
            [
             0.6,
             "#e6f5d0"
            ],
            [
             0.7,
             "#b8e186"
            ],
            [
             0.8,
             "#7fbc41"
            ],
            [
             0.9,
             "#4d9221"
            ],
            [
             1,
             "#276419"
            ]
           ],
           "sequential": [
            [
             0,
             "#0d0887"
            ],
            [
             0.1111111111111111,
             "#46039f"
            ],
            [
             0.2222222222222222,
             "#7201a8"
            ],
            [
             0.3333333333333333,
             "#9c179e"
            ],
            [
             0.4444444444444444,
             "#bd3786"
            ],
            [
             0.5555555555555556,
             "#d8576b"
            ],
            [
             0.6666666666666666,
             "#ed7953"
            ],
            [
             0.7777777777777778,
             "#fb9f3a"
            ],
            [
             0.8888888888888888,
             "#fdca26"
            ],
            [
             1,
             "#f0f921"
            ]
           ],
           "sequentialminus": [
            [
             0,
             "#0d0887"
            ],
            [
             0.1111111111111111,
             "#46039f"
            ],
            [
             0.2222222222222222,
             "#7201a8"
            ],
            [
             0.3333333333333333,
             "#9c179e"
            ],
            [
             0.4444444444444444,
             "#bd3786"
            ],
            [
             0.5555555555555556,
             "#d8576b"
            ],
            [
             0.6666666666666666,
             "#ed7953"
            ],
            [
             0.7777777777777778,
             "#fb9f3a"
            ],
            [
             0.8888888888888888,
             "#fdca26"
            ],
            [
             1,
             "#f0f921"
            ]
           ]
          },
          "colorway": [
           "#636efa",
           "#EF553B",
           "#00cc96",
           "#ab63fa",
           "#FFA15A",
           "#19d3f3",
           "#FF6692",
           "#B6E880",
           "#FF97FF",
           "#FECB52"
          ],
          "font": {
           "color": "#2a3f5f"
          },
          "geo": {
           "bgcolor": "white",
           "lakecolor": "white",
           "landcolor": "#E5ECF6",
           "showlakes": true,
           "showland": true,
           "subunitcolor": "white"
          },
          "hoverlabel": {
           "align": "left"
          },
          "hovermode": "closest",
          "mapbox": {
           "style": "light"
          },
          "paper_bgcolor": "white",
          "plot_bgcolor": "#E5ECF6",
          "polar": {
           "angularaxis": {
            "gridcolor": "white",
            "linecolor": "white",
            "ticks": ""
           },
           "bgcolor": "#E5ECF6",
           "radialaxis": {
            "gridcolor": "white",
            "linecolor": "white",
            "ticks": ""
           }
          },
          "scene": {
           "xaxis": {
            "backgroundcolor": "#E5ECF6",
            "gridcolor": "white",
            "gridwidth": 2,
            "linecolor": "white",
            "showbackground": true,
            "ticks": "",
            "zerolinecolor": "white"
           },
           "yaxis": {
            "backgroundcolor": "#E5ECF6",
            "gridcolor": "white",
            "gridwidth": 2,
            "linecolor": "white",
            "showbackground": true,
            "ticks": "",
            "zerolinecolor": "white"
           },
           "zaxis": {
            "backgroundcolor": "#E5ECF6",
            "gridcolor": "white",
            "gridwidth": 2,
            "linecolor": "white",
            "showbackground": true,
            "ticks": "",
            "zerolinecolor": "white"
           }
          },
          "shapedefaults": {
           "line": {
            "color": "#2a3f5f"
           }
          },
          "ternary": {
           "aaxis": {
            "gridcolor": "white",
            "linecolor": "white",
            "ticks": ""
           },
           "baxis": {
            "gridcolor": "white",
            "linecolor": "white",
            "ticks": ""
           },
           "bgcolor": "#E5ECF6",
           "caxis": {
            "gridcolor": "white",
            "linecolor": "white",
            "ticks": ""
           }
          },
          "title": {
           "x": 0.05
          },
          "xaxis": {
           "automargin": true,
           "gridcolor": "white",
           "linecolor": "white",
           "ticks": "",
           "title": {
            "standoff": 15
           },
           "zerolinecolor": "white",
           "zerolinewidth": 2
          },
          "yaxis": {
           "automargin": true,
           "gridcolor": "white",
           "linecolor": "white",
           "ticks": "",
           "title": {
            "standoff": 15
           },
           "zerolinecolor": "white",
           "zerolinewidth": 2
          }
         }
        },
        "xaxis": {
         "anchor": "y",
         "domain": [
          0,
          0.31999999999999995
         ]
        },
        "xaxis2": {
         "anchor": "y2",
         "domain": [
          0.33999999999999997,
          0.6599999999999999
         ],
         "matches": "x"
        },
        "xaxis3": {
         "anchor": "y3",
         "domain": [
          0.6799999999999999,
          0.9999999999999999
         ],
         "matches": "x"
        },
        "yaxis": {
         "anchor": "x",
         "domain": [
          0,
          1
         ],
         "title": {
          "text": "value"
         }
        },
        "yaxis2": {
         "anchor": "x2",
         "domain": [
          0,
          1
         ],
         "matches": "y",
         "showticklabels": false
        },
        "yaxis3": {
         "anchor": "x3",
         "domain": [
          0,
          1
         ],
         "matches": "y",
         "showticklabels": false
        }
       }
      },
      "text/html": [
       "<div>\n",
       "        \n",
       "        \n",
       "            <div id=\"d95c36d9-3ad3-4e27-99ed-e884b754b461\" class=\"plotly-graph-div\" style=\"height:525px; width:100%;\"></div>\n",
       "            <script type=\"text/javascript\">\n",
       "                require([\"plotly\"], function(Plotly) {\n",
       "                    window.PLOTLYENV=window.PLOTLYENV || {};\n",
       "                    \n",
       "                if (document.getElementById(\"d95c36d9-3ad3-4e27-99ed-e884b754b461\")) {\n",
       "                    Plotly.newPlot(\n",
       "                        'd95c36d9-3ad3-4e27-99ed-e884b754b461',\n",
       "                        [{\"alignmentgroup\": \"True\", \"boxpoints\": \"all\", \"hovertemplate\": \"quartilemethod=linear<br>value=%{y}<extra></extra>\", \"jitter\": 0, \"legendgroup\": \"linear\", \"marker\": {\"color\": \"#636efa\"}, \"name\": \"linear\", \"notched\": false, \"offsetgroup\": \"linear\", \"orientation\": \"v\", \"quartilemethod\": \"linear\", \"showlegend\": true, \"type\": \"box\", \"x0\": \" \", \"xaxis\": \"x\", \"y\": [0.18383197599657095, 0.08617659665666524, 0.2180282897556794, 0.14204029147021002, 0.16130304329189885, 0.25122160308615515, 0.2222717531075868, 0.2744706386626661, 0.19090870124303472, 0.18434633519074153, 0.18995285040720103, 0.26436776682383195, 0.20778396913844835, 0.19970852978997, 0.1847321045863695, 0.1757179597085298, 0.20920702957565365, 0.22100728675525075, 0.21894556365195028, 0.1620488641234462, 0.11287612516073725, 0.16807543934847835, 0.2157136733819117, 0.2521131590227175, 0.1894470638662666, 0.15329189884269181, 0.25004714959279895, 0.17512216030861552, 0.13733390484354907, 0.11560222888984141], \"y0\": \" \", \"yaxis\": \"y\"}, {\"alignmentgroup\": \"True\", \"boxpoints\": \"all\", \"hovertemplate\": \"quartilemethod=inclusive<br>value=%{y}<extra></extra>\", \"jitter\": 0, \"legendgroup\": \"inclusive\", \"marker\": {\"color\": \"#EF553B\"}, \"name\": \"inclusive\", \"notched\": false, \"offsetgroup\": \"inclusive\", \"orientation\": \"v\", \"quartilemethod\": \"inclusive\", \"showlegend\": true, \"type\": \"box\", \"x0\": \" \", \"xaxis\": \"x2\", \"y\": [0.18383197599657095, 0.08617659665666524, 0.2180282897556794, 0.14204029147021002, 0.16130304329189885, 0.25122160308615515, 0.2222717531075868, 0.2744706386626661, 0.19090870124303472, 0.18434633519074153, 0.18995285040720103, 0.26436776682383195, 0.20778396913844835, 0.19970852978997, 0.1847321045863695, 0.1757179597085298, 0.20920702957565365, 0.22100728675525075, 0.21894556365195028, 0.1620488641234462, 0.11287612516073725, 0.16807543934847835, 0.2157136733819117, 0.2521131590227175, 0.1894470638662666, 0.15329189884269181, 0.25004714959279895, 0.17512216030861552, 0.13733390484354907, 0.11560222888984141], \"y0\": \" \", \"yaxis\": \"y2\"}, {\"alignmentgroup\": \"True\", \"boxpoints\": \"all\", \"hovertemplate\": \"quartilemethod=exclusive<br>value=%{y}<extra></extra>\", \"jitter\": 0, \"legendgroup\": \"exclusive\", \"marker\": {\"color\": \"#00cc96\"}, \"name\": \"exclusive\", \"notched\": false, \"offsetgroup\": \"exclusive\", \"orientation\": \"v\", \"quartilemethod\": \"exclusive\", \"showlegend\": true, \"type\": \"box\", \"x0\": \" \", \"xaxis\": \"x3\", \"y\": [0.18383197599657095, 0.08617659665666524, 0.2180282897556794, 0.14204029147021002, 0.16130304329189885, 0.25122160308615515, 0.2222717531075868, 0.2744706386626661, 0.19090870124303472, 0.18434633519074153, 0.18995285040720103, 0.26436776682383195, 0.20778396913844835, 0.19970852978997, 0.1847321045863695, 0.1757179597085298, 0.20920702957565365, 0.22100728675525075, 0.21894556365195028, 0.1620488641234462, 0.11287612516073725, 0.16807543934847835, 0.2157136733819117, 0.2521131590227175, 0.1894470638662666, 0.15329189884269181, 0.25004714959279895, 0.17512216030861552, 0.13733390484354907, 0.11560222888984141], \"y0\": \" \", \"yaxis\": \"y3\"}],\n",
       "                        {\"annotations\": [{\"font\": {}, \"showarrow\": false, \"text\": \"quartilemethod=linear\", \"x\": 0.15999999999999998, \"xanchor\": \"center\", \"xref\": \"paper\", \"y\": 1.0, \"yanchor\": \"bottom\", \"yref\": \"paper\"}, {\"font\": {}, \"showarrow\": false, \"text\": \"quartilemethod=inclusive\", \"x\": 0.49999999999999994, \"xanchor\": \"center\", \"xref\": \"paper\", \"y\": 1.0, \"yanchor\": \"bottom\", \"yref\": \"paper\"}, {\"font\": {}, \"showarrow\": false, \"text\": \"quartilemethod=exclusive\", \"x\": 0.8399999999999999, \"xanchor\": \"center\", \"xref\": \"paper\", \"y\": 1.0, \"yanchor\": \"bottom\", \"yref\": \"paper\"}], \"boxmode\": \"overlay\", \"legend\": {\"title\": {\"text\": \"quartilemethod\"}, \"tracegroupgap\": 0}, \"margin\": {\"t\": 60}, \"template\": {\"data\": {\"bar\": [{\"error_x\": {\"color\": \"#2a3f5f\"}, \"error_y\": {\"color\": \"#2a3f5f\"}, \"marker\": {\"line\": {\"color\": \"#E5ECF6\", \"width\": 0.5}}, \"type\": \"bar\"}], \"barpolar\": [{\"marker\": {\"line\": {\"color\": \"#E5ECF6\", \"width\": 0.5}}, \"type\": \"barpolar\"}], \"carpet\": [{\"aaxis\": {\"endlinecolor\": \"#2a3f5f\", \"gridcolor\": \"white\", \"linecolor\": \"white\", \"minorgridcolor\": \"white\", \"startlinecolor\": \"#2a3f5f\"}, \"baxis\": {\"endlinecolor\": \"#2a3f5f\", \"gridcolor\": \"white\", \"linecolor\": \"white\", \"minorgridcolor\": \"white\", \"startlinecolor\": \"#2a3f5f\"}, \"type\": \"carpet\"}], \"choropleth\": [{\"colorbar\": {\"outlinewidth\": 0, \"ticks\": \"\"}, \"type\": \"choropleth\"}], \"contour\": [{\"colorbar\": {\"outlinewidth\": 0, \"ticks\": \"\"}, \"colorscale\": [[0.0, \"#0d0887\"], [0.1111111111111111, \"#46039f\"], [0.2222222222222222, \"#7201a8\"], [0.3333333333333333, \"#9c179e\"], [0.4444444444444444, \"#bd3786\"], [0.5555555555555556, \"#d8576b\"], [0.6666666666666666, \"#ed7953\"], [0.7777777777777778, \"#fb9f3a\"], [0.8888888888888888, \"#fdca26\"], [1.0, \"#f0f921\"]], \"type\": \"contour\"}], \"contourcarpet\": [{\"colorbar\": {\"outlinewidth\": 0, \"ticks\": \"\"}, \"type\": \"contourcarpet\"}], \"heatmap\": [{\"colorbar\": {\"outlinewidth\": 0, \"ticks\": \"\"}, \"colorscale\": [[0.0, \"#0d0887\"], [0.1111111111111111, \"#46039f\"], [0.2222222222222222, \"#7201a8\"], [0.3333333333333333, \"#9c179e\"], [0.4444444444444444, \"#bd3786\"], [0.5555555555555556, \"#d8576b\"], [0.6666666666666666, \"#ed7953\"], [0.7777777777777778, \"#fb9f3a\"], [0.8888888888888888, \"#fdca26\"], [1.0, \"#f0f921\"]], \"type\": \"heatmap\"}], \"heatmapgl\": [{\"colorbar\": {\"outlinewidth\": 0, \"ticks\": \"\"}, \"colorscale\": [[0.0, \"#0d0887\"], [0.1111111111111111, \"#46039f\"], [0.2222222222222222, \"#7201a8\"], [0.3333333333333333, \"#9c179e\"], [0.4444444444444444, \"#bd3786\"], [0.5555555555555556, \"#d8576b\"], [0.6666666666666666, \"#ed7953\"], [0.7777777777777778, \"#fb9f3a\"], [0.8888888888888888, \"#fdca26\"], [1.0, \"#f0f921\"]], \"type\": \"heatmapgl\"}], \"histogram\": [{\"marker\": {\"colorbar\": {\"outlinewidth\": 0, \"ticks\": \"\"}}, \"type\": \"histogram\"}], \"histogram2d\": [{\"colorbar\": {\"outlinewidth\": 0, \"ticks\": \"\"}, \"colorscale\": [[0.0, \"#0d0887\"], [0.1111111111111111, \"#46039f\"], [0.2222222222222222, \"#7201a8\"], [0.3333333333333333, \"#9c179e\"], [0.4444444444444444, \"#bd3786\"], [0.5555555555555556, \"#d8576b\"], [0.6666666666666666, \"#ed7953\"], [0.7777777777777778, \"#fb9f3a\"], [0.8888888888888888, \"#fdca26\"], [1.0, \"#f0f921\"]], \"type\": \"histogram2d\"}], \"histogram2dcontour\": [{\"colorbar\": {\"outlinewidth\": 0, \"ticks\": \"\"}, \"colorscale\": [[0.0, \"#0d0887\"], [0.1111111111111111, \"#46039f\"], [0.2222222222222222, \"#7201a8\"], [0.3333333333333333, \"#9c179e\"], [0.4444444444444444, \"#bd3786\"], [0.5555555555555556, \"#d8576b\"], [0.6666666666666666, \"#ed7953\"], [0.7777777777777778, \"#fb9f3a\"], [0.8888888888888888, \"#fdca26\"], [1.0, \"#f0f921\"]], \"type\": \"histogram2dcontour\"}], \"mesh3d\": [{\"colorbar\": {\"outlinewidth\": 0, \"ticks\": \"\"}, \"type\": \"mesh3d\"}], \"parcoords\": [{\"line\": {\"colorbar\": {\"outlinewidth\": 0, \"ticks\": \"\"}}, \"type\": \"parcoords\"}], \"pie\": [{\"automargin\": true, \"type\": \"pie\"}], \"scatter\": [{\"marker\": {\"colorbar\": {\"outlinewidth\": 0, \"ticks\": \"\"}}, \"type\": \"scatter\"}], \"scatter3d\": [{\"line\": {\"colorbar\": {\"outlinewidth\": 0, \"ticks\": \"\"}}, \"marker\": {\"colorbar\": {\"outlinewidth\": 0, \"ticks\": \"\"}}, \"type\": \"scatter3d\"}], \"scattercarpet\": [{\"marker\": {\"colorbar\": {\"outlinewidth\": 0, \"ticks\": \"\"}}, \"type\": \"scattercarpet\"}], \"scattergeo\": [{\"marker\": {\"colorbar\": {\"outlinewidth\": 0, \"ticks\": \"\"}}, \"type\": \"scattergeo\"}], \"scattergl\": [{\"marker\": {\"colorbar\": {\"outlinewidth\": 0, \"ticks\": \"\"}}, \"type\": \"scattergl\"}], \"scattermapbox\": [{\"marker\": {\"colorbar\": {\"outlinewidth\": 0, \"ticks\": \"\"}}, \"type\": \"scattermapbox\"}], \"scatterpolar\": [{\"marker\": {\"colorbar\": {\"outlinewidth\": 0, \"ticks\": \"\"}}, \"type\": \"scatterpolar\"}], \"scatterpolargl\": [{\"marker\": {\"colorbar\": {\"outlinewidth\": 0, \"ticks\": \"\"}}, \"type\": \"scatterpolargl\"}], \"scatterternary\": [{\"marker\": {\"colorbar\": {\"outlinewidth\": 0, \"ticks\": \"\"}}, \"type\": \"scatterternary\"}], \"surface\": [{\"colorbar\": {\"outlinewidth\": 0, \"ticks\": \"\"}, \"colorscale\": [[0.0, \"#0d0887\"], [0.1111111111111111, \"#46039f\"], [0.2222222222222222, \"#7201a8\"], [0.3333333333333333, \"#9c179e\"], [0.4444444444444444, \"#bd3786\"], [0.5555555555555556, \"#d8576b\"], [0.6666666666666666, \"#ed7953\"], [0.7777777777777778, \"#fb9f3a\"], [0.8888888888888888, \"#fdca26\"], [1.0, \"#f0f921\"]], \"type\": \"surface\"}], \"table\": [{\"cells\": {\"fill\": {\"color\": \"#EBF0F8\"}, \"line\": {\"color\": \"white\"}}, \"header\": {\"fill\": {\"color\": \"#C8D4E3\"}, \"line\": {\"color\": \"white\"}}, \"type\": \"table\"}]}, \"layout\": {\"annotationdefaults\": {\"arrowcolor\": \"#2a3f5f\", \"arrowhead\": 0, \"arrowwidth\": 1}, \"coloraxis\": {\"colorbar\": {\"outlinewidth\": 0, \"ticks\": \"\"}}, \"colorscale\": {\"diverging\": [[0, \"#8e0152\"], [0.1, \"#c51b7d\"], [0.2, \"#de77ae\"], [0.3, \"#f1b6da\"], [0.4, \"#fde0ef\"], [0.5, \"#f7f7f7\"], [0.6, \"#e6f5d0\"], [0.7, \"#b8e186\"], [0.8, \"#7fbc41\"], [0.9, \"#4d9221\"], [1, \"#276419\"]], \"sequential\": [[0.0, \"#0d0887\"], [0.1111111111111111, \"#46039f\"], [0.2222222222222222, \"#7201a8\"], [0.3333333333333333, \"#9c179e\"], [0.4444444444444444, \"#bd3786\"], [0.5555555555555556, \"#d8576b\"], [0.6666666666666666, \"#ed7953\"], [0.7777777777777778, \"#fb9f3a\"], [0.8888888888888888, \"#fdca26\"], [1.0, \"#f0f921\"]], \"sequentialminus\": [[0.0, \"#0d0887\"], [0.1111111111111111, \"#46039f\"], [0.2222222222222222, \"#7201a8\"], [0.3333333333333333, \"#9c179e\"], [0.4444444444444444, \"#bd3786\"], [0.5555555555555556, \"#d8576b\"], [0.6666666666666666, \"#ed7953\"], [0.7777777777777778, \"#fb9f3a\"], [0.8888888888888888, \"#fdca26\"], [1.0, \"#f0f921\"]]}, \"colorway\": [\"#636efa\", \"#EF553B\", \"#00cc96\", \"#ab63fa\", \"#FFA15A\", \"#19d3f3\", \"#FF6692\", \"#B6E880\", \"#FF97FF\", \"#FECB52\"], \"font\": {\"color\": \"#2a3f5f\"}, \"geo\": {\"bgcolor\": \"white\", \"lakecolor\": \"white\", \"landcolor\": \"#E5ECF6\", \"showlakes\": true, \"showland\": true, \"subunitcolor\": \"white\"}, \"hoverlabel\": {\"align\": \"left\"}, \"hovermode\": \"closest\", \"mapbox\": {\"style\": \"light\"}, \"paper_bgcolor\": \"white\", \"plot_bgcolor\": \"#E5ECF6\", \"polar\": {\"angularaxis\": {\"gridcolor\": \"white\", \"linecolor\": \"white\", \"ticks\": \"\"}, \"bgcolor\": \"#E5ECF6\", \"radialaxis\": {\"gridcolor\": \"white\", \"linecolor\": \"white\", \"ticks\": \"\"}}, \"scene\": {\"xaxis\": {\"backgroundcolor\": \"#E5ECF6\", \"gridcolor\": \"white\", \"gridwidth\": 2, \"linecolor\": \"white\", \"showbackground\": true, \"ticks\": \"\", \"zerolinecolor\": \"white\"}, \"yaxis\": {\"backgroundcolor\": \"#E5ECF6\", \"gridcolor\": \"white\", \"gridwidth\": 2, \"linecolor\": \"white\", \"showbackground\": true, \"ticks\": \"\", \"zerolinecolor\": \"white\"}, \"zaxis\": {\"backgroundcolor\": \"#E5ECF6\", \"gridcolor\": \"white\", \"gridwidth\": 2, \"linecolor\": \"white\", \"showbackground\": true, \"ticks\": \"\", \"zerolinecolor\": \"white\"}}, \"shapedefaults\": {\"line\": {\"color\": \"#2a3f5f\"}}, \"ternary\": {\"aaxis\": {\"gridcolor\": \"white\", \"linecolor\": \"white\", \"ticks\": \"\"}, \"baxis\": {\"gridcolor\": \"white\", \"linecolor\": \"white\", \"ticks\": \"\"}, \"bgcolor\": \"#E5ECF6\", \"caxis\": {\"gridcolor\": \"white\", \"linecolor\": \"white\", \"ticks\": \"\"}}, \"title\": {\"x\": 0.05}, \"xaxis\": {\"automargin\": true, \"gridcolor\": \"white\", \"linecolor\": \"white\", \"ticks\": \"\", \"title\": {\"standoff\": 15}, \"zerolinecolor\": \"white\", \"zerolinewidth\": 2}, \"yaxis\": {\"automargin\": true, \"gridcolor\": \"white\", \"linecolor\": \"white\", \"ticks\": \"\", \"title\": {\"standoff\": 15}, \"zerolinecolor\": \"white\", \"zerolinewidth\": 2}}}, \"xaxis\": {\"anchor\": \"y\", \"domain\": [0.0, 0.31999999999999995]}, \"xaxis2\": {\"anchor\": \"y2\", \"domain\": [0.33999999999999997, 0.6599999999999999], \"matches\": \"x\"}, \"xaxis3\": {\"anchor\": \"y3\", \"domain\": [0.6799999999999999, 0.9999999999999999], \"matches\": \"x\"}, \"yaxis\": {\"anchor\": \"x\", \"domain\": [0.0, 1.0], \"title\": {\"text\": \"value\"}}, \"yaxis2\": {\"anchor\": \"x2\", \"domain\": [0.0, 1.0], \"matches\": \"y\", \"showticklabels\": false}, \"yaxis3\": {\"anchor\": \"x3\", \"domain\": [0.0, 1.0], \"matches\": \"y\", \"showticklabels\": false}},\n",
       "                        {\"responsive\": true}\n",
       "                    ).then(function(){\n",
       "                            \n",
       "var gd = document.getElementById('d95c36d9-3ad3-4e27-99ed-e884b754b461');\n",
       "var x = new MutationObserver(function (mutations, observer) {{\n",
       "        var display = window.getComputedStyle(gd).display;\n",
       "        if (!display || display === 'none') {{\n",
       "            console.log([gd, 'removed!']);\n",
       "            Plotly.purge(gd);\n",
       "            observer.disconnect();\n",
       "        }}\n",
       "}});\n",
       "\n",
       "// Listen for the removal of the full notebook cells\n",
       "var notebookContainer = gd.closest('#notebook-container');\n",
       "if (notebookContainer) {{\n",
       "    x.observe(notebookContainer, {childList: true});\n",
       "}}\n",
       "\n",
       "// Listen for the clearing of the current output cell\n",
       "var outputEl = gd.closest('.output');\n",
       "if (outputEl) {{\n",
       "    x.observe(outputEl, {childList: true});\n",
       "}}\n",
       "\n",
       "                        })\n",
       "                };\n",
       "                });\n",
       "            </script>\n",
       "        </div>"
      ]
     },
     "metadata": {},
     "output_type": "display_data"
    }
   ],
   "source": [
    "import plotly.express as px\n",
    "import pandas as pd\n",
    "\n",
    "data = sao_solutions_list\n",
    "df = pd.DataFrame(dict(\n",
    "    linear=data,\n",
    "    inclusive=data,\n",
    "    exclusive=data\n",
    ")).melt(var_name=\"quartilemethod\")\n",
    "\n",
    "\n",
    "fig = px.box(df, y=\"value\", facet_col=\"quartilemethod\", color=\"quartilemethod\",\n",
    "             boxmode=\"overlay\", points='all')\n",
    "\n",
    "fig.update_traces(quartilemethod=\"linear\", jitter=0, col=1)\n",
    "fig.update_traces(quartilemethod=\"inclusive\", jitter=0, col=2)\n",
    "fig.update_traces(quartilemethod=\"exclusive\", jitter=0, col=3)\n",
    "\n",
    "fig.show()\n"
   ]
  },
  {
   "cell_type": "markdown",
   "metadata": {},
   "source": [
    "### Particle Swarm Optimization (PSO)"
   ]
  },
  {
   "cell_type": "code",
   "execution_count": 44,
   "metadata": {},
   "outputs": [
    {
     "data": {
      "application/vnd.plotly.v1+json": {
       "config": {
        "plotlyServerURL": "https://plot.ly"
       },
       "data": [
        {
         "alignmentgroup": "True",
         "boxpoints": "all",
         "hovertemplate": "quartilemethod=linear<br>value=%{y}<extra></extra>",
         "jitter": 0,
         "legendgroup": "linear",
         "marker": {
          "color": "#636efa"
         },
         "name": "linear",
         "notched": false,
         "offsetgroup": "linear",
         "orientation": "v",
         "quartilemethod": "linear",
         "showlegend": true,
         "type": "box",
         "x0": " ",
         "xaxis": "x",
         "y": [
          0.4176596656665238,
          0.32012001714530647,
          0.3357736819545649,
          0.3793570510072868,
          0.37668238319759967,
          0.33688812687526787,
          0.3753107586798114,
          0.43093013287612514,
          0.4026403771967424,
          0.39434204886412344,
          0.27257608229747105,
          0.3600514359194171,
          0.4386626660951565,
          0.3458894127732533,
          0.15225032147449635,
          0.23118731247321045,
          0.408058294042006,
          0.3575825117873982,
          0.3753107586798114,
          0.42234033433347623,
          0.39297042434633517,
          0.3354479211315902,
          0.3730818688384055,
          0.3600514359194171,
          0.36821260180025717,
          0.38796399485640803,
          0.24891555936562365,
          0.3971881697385341,
          0.30532361765966565,
          0.24277753964852122
         ],
         "y0": " ",
         "yaxis": "y"
        },
        {
         "alignmentgroup": "True",
         "boxpoints": "all",
         "hovertemplate": "quartilemethod=inclusive<br>value=%{y}<extra></extra>",
         "jitter": 0,
         "legendgroup": "inclusive",
         "marker": {
          "color": "#EF553B"
         },
         "name": "inclusive",
         "notched": false,
         "offsetgroup": "inclusive",
         "orientation": "v",
         "quartilemethod": "inclusive",
         "showlegend": true,
         "type": "box",
         "x0": " ",
         "xaxis": "x2",
         "y": [
          0.4176596656665238,
          0.32012001714530647,
          0.3357736819545649,
          0.3793570510072868,
          0.37668238319759967,
          0.33688812687526787,
          0.3753107586798114,
          0.43093013287612514,
          0.4026403771967424,
          0.39434204886412344,
          0.27257608229747105,
          0.3600514359194171,
          0.4386626660951565,
          0.3458894127732533,
          0.15225032147449635,
          0.23118731247321045,
          0.408058294042006,
          0.3575825117873982,
          0.3753107586798114,
          0.42234033433347623,
          0.39297042434633517,
          0.3354479211315902,
          0.3730818688384055,
          0.3600514359194171,
          0.36821260180025717,
          0.38796399485640803,
          0.24891555936562365,
          0.3971881697385341,
          0.30532361765966565,
          0.24277753964852122
         ],
         "y0": " ",
         "yaxis": "y2"
        },
        {
         "alignmentgroup": "True",
         "boxpoints": "all",
         "hovertemplate": "quartilemethod=exclusive<br>value=%{y}<extra></extra>",
         "jitter": 0,
         "legendgroup": "exclusive",
         "marker": {
          "color": "#00cc96"
         },
         "name": "exclusive",
         "notched": false,
         "offsetgroup": "exclusive",
         "orientation": "v",
         "quartilemethod": "exclusive",
         "showlegend": true,
         "type": "box",
         "x0": " ",
         "xaxis": "x3",
         "y": [
          0.4176596656665238,
          0.32012001714530647,
          0.3357736819545649,
          0.3793570510072868,
          0.37668238319759967,
          0.33688812687526787,
          0.3753107586798114,
          0.43093013287612514,
          0.4026403771967424,
          0.39434204886412344,
          0.27257608229747105,
          0.3600514359194171,
          0.4386626660951565,
          0.3458894127732533,
          0.15225032147449635,
          0.23118731247321045,
          0.408058294042006,
          0.3575825117873982,
          0.3753107586798114,
          0.42234033433347623,
          0.39297042434633517,
          0.3354479211315902,
          0.3730818688384055,
          0.3600514359194171,
          0.36821260180025717,
          0.38796399485640803,
          0.24891555936562365,
          0.3971881697385341,
          0.30532361765966565,
          0.24277753964852122
         ],
         "y0": " ",
         "yaxis": "y3"
        }
       ],
       "layout": {
        "annotations": [
         {
          "font": {},
          "showarrow": false,
          "text": "quartilemethod=linear",
          "x": 0.15999999999999998,
          "xanchor": "center",
          "xref": "paper",
          "y": 1,
          "yanchor": "bottom",
          "yref": "paper"
         },
         {
          "font": {},
          "showarrow": false,
          "text": "quartilemethod=inclusive",
          "x": 0.49999999999999994,
          "xanchor": "center",
          "xref": "paper",
          "y": 1,
          "yanchor": "bottom",
          "yref": "paper"
         },
         {
          "font": {},
          "showarrow": false,
          "text": "quartilemethod=exclusive",
          "x": 0.8399999999999999,
          "xanchor": "center",
          "xref": "paper",
          "y": 1,
          "yanchor": "bottom",
          "yref": "paper"
         }
        ],
        "boxmode": "overlay",
        "legend": {
         "title": {
          "text": "quartilemethod"
         },
         "tracegroupgap": 0
        },
        "margin": {
         "t": 60
        },
        "template": {
         "data": {
          "bar": [
           {
            "error_x": {
             "color": "#2a3f5f"
            },
            "error_y": {
             "color": "#2a3f5f"
            },
            "marker": {
             "line": {
              "color": "#E5ECF6",
              "width": 0.5
             }
            },
            "type": "bar"
           }
          ],
          "barpolar": [
           {
            "marker": {
             "line": {
              "color": "#E5ECF6",
              "width": 0.5
             }
            },
            "type": "barpolar"
           }
          ],
          "carpet": [
           {
            "aaxis": {
             "endlinecolor": "#2a3f5f",
             "gridcolor": "white",
             "linecolor": "white",
             "minorgridcolor": "white",
             "startlinecolor": "#2a3f5f"
            },
            "baxis": {
             "endlinecolor": "#2a3f5f",
             "gridcolor": "white",
             "linecolor": "white",
             "minorgridcolor": "white",
             "startlinecolor": "#2a3f5f"
            },
            "type": "carpet"
           }
          ],
          "choropleth": [
           {
            "colorbar": {
             "outlinewidth": 0,
             "ticks": ""
            },
            "type": "choropleth"
           }
          ],
          "contour": [
           {
            "colorbar": {
             "outlinewidth": 0,
             "ticks": ""
            },
            "colorscale": [
             [
              0,
              "#0d0887"
             ],
             [
              0.1111111111111111,
              "#46039f"
             ],
             [
              0.2222222222222222,
              "#7201a8"
             ],
             [
              0.3333333333333333,
              "#9c179e"
             ],
             [
              0.4444444444444444,
              "#bd3786"
             ],
             [
              0.5555555555555556,
              "#d8576b"
             ],
             [
              0.6666666666666666,
              "#ed7953"
             ],
             [
              0.7777777777777778,
              "#fb9f3a"
             ],
             [
              0.8888888888888888,
              "#fdca26"
             ],
             [
              1,
              "#f0f921"
             ]
            ],
            "type": "contour"
           }
          ],
          "contourcarpet": [
           {
            "colorbar": {
             "outlinewidth": 0,
             "ticks": ""
            },
            "type": "contourcarpet"
           }
          ],
          "heatmap": [
           {
            "colorbar": {
             "outlinewidth": 0,
             "ticks": ""
            },
            "colorscale": [
             [
              0,
              "#0d0887"
             ],
             [
              0.1111111111111111,
              "#46039f"
             ],
             [
              0.2222222222222222,
              "#7201a8"
             ],
             [
              0.3333333333333333,
              "#9c179e"
             ],
             [
              0.4444444444444444,
              "#bd3786"
             ],
             [
              0.5555555555555556,
              "#d8576b"
             ],
             [
              0.6666666666666666,
              "#ed7953"
             ],
             [
              0.7777777777777778,
              "#fb9f3a"
             ],
             [
              0.8888888888888888,
              "#fdca26"
             ],
             [
              1,
              "#f0f921"
             ]
            ],
            "type": "heatmap"
           }
          ],
          "heatmapgl": [
           {
            "colorbar": {
             "outlinewidth": 0,
             "ticks": ""
            },
            "colorscale": [
             [
              0,
              "#0d0887"
             ],
             [
              0.1111111111111111,
              "#46039f"
             ],
             [
              0.2222222222222222,
              "#7201a8"
             ],
             [
              0.3333333333333333,
              "#9c179e"
             ],
             [
              0.4444444444444444,
              "#bd3786"
             ],
             [
              0.5555555555555556,
              "#d8576b"
             ],
             [
              0.6666666666666666,
              "#ed7953"
             ],
             [
              0.7777777777777778,
              "#fb9f3a"
             ],
             [
              0.8888888888888888,
              "#fdca26"
             ],
             [
              1,
              "#f0f921"
             ]
            ],
            "type": "heatmapgl"
           }
          ],
          "histogram": [
           {
            "marker": {
             "colorbar": {
              "outlinewidth": 0,
              "ticks": ""
             }
            },
            "type": "histogram"
           }
          ],
          "histogram2d": [
           {
            "colorbar": {
             "outlinewidth": 0,
             "ticks": ""
            },
            "colorscale": [
             [
              0,
              "#0d0887"
             ],
             [
              0.1111111111111111,
              "#46039f"
             ],
             [
              0.2222222222222222,
              "#7201a8"
             ],
             [
              0.3333333333333333,
              "#9c179e"
             ],
             [
              0.4444444444444444,
              "#bd3786"
             ],
             [
              0.5555555555555556,
              "#d8576b"
             ],
             [
              0.6666666666666666,
              "#ed7953"
             ],
             [
              0.7777777777777778,
              "#fb9f3a"
             ],
             [
              0.8888888888888888,
              "#fdca26"
             ],
             [
              1,
              "#f0f921"
             ]
            ],
            "type": "histogram2d"
           }
          ],
          "histogram2dcontour": [
           {
            "colorbar": {
             "outlinewidth": 0,
             "ticks": ""
            },
            "colorscale": [
             [
              0,
              "#0d0887"
             ],
             [
              0.1111111111111111,
              "#46039f"
             ],
             [
              0.2222222222222222,
              "#7201a8"
             ],
             [
              0.3333333333333333,
              "#9c179e"
             ],
             [
              0.4444444444444444,
              "#bd3786"
             ],
             [
              0.5555555555555556,
              "#d8576b"
             ],
             [
              0.6666666666666666,
              "#ed7953"
             ],
             [
              0.7777777777777778,
              "#fb9f3a"
             ],
             [
              0.8888888888888888,
              "#fdca26"
             ],
             [
              1,
              "#f0f921"
             ]
            ],
            "type": "histogram2dcontour"
           }
          ],
          "mesh3d": [
           {
            "colorbar": {
             "outlinewidth": 0,
             "ticks": ""
            },
            "type": "mesh3d"
           }
          ],
          "parcoords": [
           {
            "line": {
             "colorbar": {
              "outlinewidth": 0,
              "ticks": ""
             }
            },
            "type": "parcoords"
           }
          ],
          "pie": [
           {
            "automargin": true,
            "type": "pie"
           }
          ],
          "scatter": [
           {
            "marker": {
             "colorbar": {
              "outlinewidth": 0,
              "ticks": ""
             }
            },
            "type": "scatter"
           }
          ],
          "scatter3d": [
           {
            "line": {
             "colorbar": {
              "outlinewidth": 0,
              "ticks": ""
             }
            },
            "marker": {
             "colorbar": {
              "outlinewidth": 0,
              "ticks": ""
             }
            },
            "type": "scatter3d"
           }
          ],
          "scattercarpet": [
           {
            "marker": {
             "colorbar": {
              "outlinewidth": 0,
              "ticks": ""
             }
            },
            "type": "scattercarpet"
           }
          ],
          "scattergeo": [
           {
            "marker": {
             "colorbar": {
              "outlinewidth": 0,
              "ticks": ""
             }
            },
            "type": "scattergeo"
           }
          ],
          "scattergl": [
           {
            "marker": {
             "colorbar": {
              "outlinewidth": 0,
              "ticks": ""
             }
            },
            "type": "scattergl"
           }
          ],
          "scattermapbox": [
           {
            "marker": {
             "colorbar": {
              "outlinewidth": 0,
              "ticks": ""
             }
            },
            "type": "scattermapbox"
           }
          ],
          "scatterpolar": [
           {
            "marker": {
             "colorbar": {
              "outlinewidth": 0,
              "ticks": ""
             }
            },
            "type": "scatterpolar"
           }
          ],
          "scatterpolargl": [
           {
            "marker": {
             "colorbar": {
              "outlinewidth": 0,
              "ticks": ""
             }
            },
            "type": "scatterpolargl"
           }
          ],
          "scatterternary": [
           {
            "marker": {
             "colorbar": {
              "outlinewidth": 0,
              "ticks": ""
             }
            },
            "type": "scatterternary"
           }
          ],
          "surface": [
           {
            "colorbar": {
             "outlinewidth": 0,
             "ticks": ""
            },
            "colorscale": [
             [
              0,
              "#0d0887"
             ],
             [
              0.1111111111111111,
              "#46039f"
             ],
             [
              0.2222222222222222,
              "#7201a8"
             ],
             [
              0.3333333333333333,
              "#9c179e"
             ],
             [
              0.4444444444444444,
              "#bd3786"
             ],
             [
              0.5555555555555556,
              "#d8576b"
             ],
             [
              0.6666666666666666,
              "#ed7953"
             ],
             [
              0.7777777777777778,
              "#fb9f3a"
             ],
             [
              0.8888888888888888,
              "#fdca26"
             ],
             [
              1,
              "#f0f921"
             ]
            ],
            "type": "surface"
           }
          ],
          "table": [
           {
            "cells": {
             "fill": {
              "color": "#EBF0F8"
             },
             "line": {
              "color": "white"
             }
            },
            "header": {
             "fill": {
              "color": "#C8D4E3"
             },
             "line": {
              "color": "white"
             }
            },
            "type": "table"
           }
          ]
         },
         "layout": {
          "annotationdefaults": {
           "arrowcolor": "#2a3f5f",
           "arrowhead": 0,
           "arrowwidth": 1
          },
          "coloraxis": {
           "colorbar": {
            "outlinewidth": 0,
            "ticks": ""
           }
          },
          "colorscale": {
           "diverging": [
            [
             0,
             "#8e0152"
            ],
            [
             0.1,
             "#c51b7d"
            ],
            [
             0.2,
             "#de77ae"
            ],
            [
             0.3,
             "#f1b6da"
            ],
            [
             0.4,
             "#fde0ef"
            ],
            [
             0.5,
             "#f7f7f7"
            ],
            [
             0.6,
             "#e6f5d0"
            ],
            [
             0.7,
             "#b8e186"
            ],
            [
             0.8,
             "#7fbc41"
            ],
            [
             0.9,
             "#4d9221"
            ],
            [
             1,
             "#276419"
            ]
           ],
           "sequential": [
            [
             0,
             "#0d0887"
            ],
            [
             0.1111111111111111,
             "#46039f"
            ],
            [
             0.2222222222222222,
             "#7201a8"
            ],
            [
             0.3333333333333333,
             "#9c179e"
            ],
            [
             0.4444444444444444,
             "#bd3786"
            ],
            [
             0.5555555555555556,
             "#d8576b"
            ],
            [
             0.6666666666666666,
             "#ed7953"
            ],
            [
             0.7777777777777778,
             "#fb9f3a"
            ],
            [
             0.8888888888888888,
             "#fdca26"
            ],
            [
             1,
             "#f0f921"
            ]
           ],
           "sequentialminus": [
            [
             0,
             "#0d0887"
            ],
            [
             0.1111111111111111,
             "#46039f"
            ],
            [
             0.2222222222222222,
             "#7201a8"
            ],
            [
             0.3333333333333333,
             "#9c179e"
            ],
            [
             0.4444444444444444,
             "#bd3786"
            ],
            [
             0.5555555555555556,
             "#d8576b"
            ],
            [
             0.6666666666666666,
             "#ed7953"
            ],
            [
             0.7777777777777778,
             "#fb9f3a"
            ],
            [
             0.8888888888888888,
             "#fdca26"
            ],
            [
             1,
             "#f0f921"
            ]
           ]
          },
          "colorway": [
           "#636efa",
           "#EF553B",
           "#00cc96",
           "#ab63fa",
           "#FFA15A",
           "#19d3f3",
           "#FF6692",
           "#B6E880",
           "#FF97FF",
           "#FECB52"
          ],
          "font": {
           "color": "#2a3f5f"
          },
          "geo": {
           "bgcolor": "white",
           "lakecolor": "white",
           "landcolor": "#E5ECF6",
           "showlakes": true,
           "showland": true,
           "subunitcolor": "white"
          },
          "hoverlabel": {
           "align": "left"
          },
          "hovermode": "closest",
          "mapbox": {
           "style": "light"
          },
          "paper_bgcolor": "white",
          "plot_bgcolor": "#E5ECF6",
          "polar": {
           "angularaxis": {
            "gridcolor": "white",
            "linecolor": "white",
            "ticks": ""
           },
           "bgcolor": "#E5ECF6",
           "radialaxis": {
            "gridcolor": "white",
            "linecolor": "white",
            "ticks": ""
           }
          },
          "scene": {
           "xaxis": {
            "backgroundcolor": "#E5ECF6",
            "gridcolor": "white",
            "gridwidth": 2,
            "linecolor": "white",
            "showbackground": true,
            "ticks": "",
            "zerolinecolor": "white"
           },
           "yaxis": {
            "backgroundcolor": "#E5ECF6",
            "gridcolor": "white",
            "gridwidth": 2,
            "linecolor": "white",
            "showbackground": true,
            "ticks": "",
            "zerolinecolor": "white"
           },
           "zaxis": {
            "backgroundcolor": "#E5ECF6",
            "gridcolor": "white",
            "gridwidth": 2,
            "linecolor": "white",
            "showbackground": true,
            "ticks": "",
            "zerolinecolor": "white"
           }
          },
          "shapedefaults": {
           "line": {
            "color": "#2a3f5f"
           }
          },
          "ternary": {
           "aaxis": {
            "gridcolor": "white",
            "linecolor": "white",
            "ticks": ""
           },
           "baxis": {
            "gridcolor": "white",
            "linecolor": "white",
            "ticks": ""
           },
           "bgcolor": "#E5ECF6",
           "caxis": {
            "gridcolor": "white",
            "linecolor": "white",
            "ticks": ""
           }
          },
          "title": {
           "x": 0.05
          },
          "xaxis": {
           "automargin": true,
           "gridcolor": "white",
           "linecolor": "white",
           "ticks": "",
           "title": {
            "standoff": 15
           },
           "zerolinecolor": "white",
           "zerolinewidth": 2
          },
          "yaxis": {
           "automargin": true,
           "gridcolor": "white",
           "linecolor": "white",
           "ticks": "",
           "title": {
            "standoff": 15
           },
           "zerolinecolor": "white",
           "zerolinewidth": 2
          }
         }
        },
        "xaxis": {
         "anchor": "y",
         "domain": [
          0,
          0.31999999999999995
         ]
        },
        "xaxis2": {
         "anchor": "y2",
         "domain": [
          0.33999999999999997,
          0.6599999999999999
         ],
         "matches": "x"
        },
        "xaxis3": {
         "anchor": "y3",
         "domain": [
          0.6799999999999999,
          0.9999999999999999
         ],
         "matches": "x"
        },
        "yaxis": {
         "anchor": "x",
         "domain": [
          0,
          1
         ],
         "title": {
          "text": "value"
         }
        },
        "yaxis2": {
         "anchor": "x2",
         "domain": [
          0,
          1
         ],
         "matches": "y",
         "showticklabels": false
        },
        "yaxis3": {
         "anchor": "x3",
         "domain": [
          0,
          1
         ],
         "matches": "y",
         "showticklabels": false
        }
       }
      },
      "text/html": [
       "<div>\n",
       "        \n",
       "        \n",
       "            <div id=\"3196f54e-162b-4aa1-abdd-4e97cbb596d2\" class=\"plotly-graph-div\" style=\"height:525px; width:100%;\"></div>\n",
       "            <script type=\"text/javascript\">\n",
       "                require([\"plotly\"], function(Plotly) {\n",
       "                    window.PLOTLYENV=window.PLOTLYENV || {};\n",
       "                    \n",
       "                if (document.getElementById(\"3196f54e-162b-4aa1-abdd-4e97cbb596d2\")) {\n",
       "                    Plotly.newPlot(\n",
       "                        '3196f54e-162b-4aa1-abdd-4e97cbb596d2',\n",
       "                        [{\"alignmentgroup\": \"True\", \"boxpoints\": \"all\", \"hovertemplate\": \"quartilemethod=linear<br>value=%{y}<extra></extra>\", \"jitter\": 0, \"legendgroup\": \"linear\", \"marker\": {\"color\": \"#636efa\"}, \"name\": \"linear\", \"notched\": false, \"offsetgroup\": \"linear\", \"orientation\": \"v\", \"quartilemethod\": \"linear\", \"showlegend\": true, \"type\": \"box\", \"x0\": \" \", \"xaxis\": \"x\", \"y\": [0.4176596656665238, 0.32012001714530647, 0.3357736819545649, 0.3793570510072868, 0.37668238319759967, 0.33688812687526787, 0.3753107586798114, 0.43093013287612514, 0.4026403771967424, 0.39434204886412344, 0.27257608229747105, 0.3600514359194171, 0.4386626660951565, 0.3458894127732533, 0.15225032147449635, 0.23118731247321045, 0.408058294042006, 0.3575825117873982, 0.3753107586798114, 0.42234033433347623, 0.39297042434633517, 0.3354479211315902, 0.3730818688384055, 0.3600514359194171, 0.36821260180025717, 0.38796399485640803, 0.24891555936562365, 0.3971881697385341, 0.30532361765966565, 0.24277753964852122], \"y0\": \" \", \"yaxis\": \"y\"}, {\"alignmentgroup\": \"True\", \"boxpoints\": \"all\", \"hovertemplate\": \"quartilemethod=inclusive<br>value=%{y}<extra></extra>\", \"jitter\": 0, \"legendgroup\": \"inclusive\", \"marker\": {\"color\": \"#EF553B\"}, \"name\": \"inclusive\", \"notched\": false, \"offsetgroup\": \"inclusive\", \"orientation\": \"v\", \"quartilemethod\": \"inclusive\", \"showlegend\": true, \"type\": \"box\", \"x0\": \" \", \"xaxis\": \"x2\", \"y\": [0.4176596656665238, 0.32012001714530647, 0.3357736819545649, 0.3793570510072868, 0.37668238319759967, 0.33688812687526787, 0.3753107586798114, 0.43093013287612514, 0.4026403771967424, 0.39434204886412344, 0.27257608229747105, 0.3600514359194171, 0.4386626660951565, 0.3458894127732533, 0.15225032147449635, 0.23118731247321045, 0.408058294042006, 0.3575825117873982, 0.3753107586798114, 0.42234033433347623, 0.39297042434633517, 0.3354479211315902, 0.3730818688384055, 0.3600514359194171, 0.36821260180025717, 0.38796399485640803, 0.24891555936562365, 0.3971881697385341, 0.30532361765966565, 0.24277753964852122], \"y0\": \" \", \"yaxis\": \"y2\"}, {\"alignmentgroup\": \"True\", \"boxpoints\": \"all\", \"hovertemplate\": \"quartilemethod=exclusive<br>value=%{y}<extra></extra>\", \"jitter\": 0, \"legendgroup\": \"exclusive\", \"marker\": {\"color\": \"#00cc96\"}, \"name\": \"exclusive\", \"notched\": false, \"offsetgroup\": \"exclusive\", \"orientation\": \"v\", \"quartilemethod\": \"exclusive\", \"showlegend\": true, \"type\": \"box\", \"x0\": \" \", \"xaxis\": \"x3\", \"y\": [0.4176596656665238, 0.32012001714530647, 0.3357736819545649, 0.3793570510072868, 0.37668238319759967, 0.33688812687526787, 0.3753107586798114, 0.43093013287612514, 0.4026403771967424, 0.39434204886412344, 0.27257608229747105, 0.3600514359194171, 0.4386626660951565, 0.3458894127732533, 0.15225032147449635, 0.23118731247321045, 0.408058294042006, 0.3575825117873982, 0.3753107586798114, 0.42234033433347623, 0.39297042434633517, 0.3354479211315902, 0.3730818688384055, 0.3600514359194171, 0.36821260180025717, 0.38796399485640803, 0.24891555936562365, 0.3971881697385341, 0.30532361765966565, 0.24277753964852122], \"y0\": \" \", \"yaxis\": \"y3\"}],\n",
       "                        {\"annotations\": [{\"font\": {}, \"showarrow\": false, \"text\": \"quartilemethod=linear\", \"x\": 0.15999999999999998, \"xanchor\": \"center\", \"xref\": \"paper\", \"y\": 1.0, \"yanchor\": \"bottom\", \"yref\": \"paper\"}, {\"font\": {}, \"showarrow\": false, \"text\": \"quartilemethod=inclusive\", \"x\": 0.49999999999999994, \"xanchor\": \"center\", \"xref\": \"paper\", \"y\": 1.0, \"yanchor\": \"bottom\", \"yref\": \"paper\"}, {\"font\": {}, \"showarrow\": false, \"text\": \"quartilemethod=exclusive\", \"x\": 0.8399999999999999, \"xanchor\": \"center\", \"xref\": \"paper\", \"y\": 1.0, \"yanchor\": \"bottom\", \"yref\": \"paper\"}], \"boxmode\": \"overlay\", \"legend\": {\"title\": {\"text\": \"quartilemethod\"}, \"tracegroupgap\": 0}, \"margin\": {\"t\": 60}, \"template\": {\"data\": {\"bar\": [{\"error_x\": {\"color\": \"#2a3f5f\"}, \"error_y\": {\"color\": \"#2a3f5f\"}, \"marker\": {\"line\": {\"color\": \"#E5ECF6\", \"width\": 0.5}}, \"type\": \"bar\"}], \"barpolar\": [{\"marker\": {\"line\": {\"color\": \"#E5ECF6\", \"width\": 0.5}}, \"type\": \"barpolar\"}], \"carpet\": [{\"aaxis\": {\"endlinecolor\": \"#2a3f5f\", \"gridcolor\": \"white\", \"linecolor\": \"white\", \"minorgridcolor\": \"white\", \"startlinecolor\": \"#2a3f5f\"}, \"baxis\": {\"endlinecolor\": \"#2a3f5f\", \"gridcolor\": \"white\", \"linecolor\": \"white\", \"minorgridcolor\": \"white\", \"startlinecolor\": \"#2a3f5f\"}, \"type\": \"carpet\"}], \"choropleth\": [{\"colorbar\": {\"outlinewidth\": 0, \"ticks\": \"\"}, \"type\": \"choropleth\"}], \"contour\": [{\"colorbar\": {\"outlinewidth\": 0, \"ticks\": \"\"}, \"colorscale\": [[0.0, \"#0d0887\"], [0.1111111111111111, \"#46039f\"], [0.2222222222222222, \"#7201a8\"], [0.3333333333333333, \"#9c179e\"], [0.4444444444444444, \"#bd3786\"], [0.5555555555555556, \"#d8576b\"], [0.6666666666666666, \"#ed7953\"], [0.7777777777777778, \"#fb9f3a\"], [0.8888888888888888, \"#fdca26\"], [1.0, \"#f0f921\"]], \"type\": \"contour\"}], \"contourcarpet\": [{\"colorbar\": {\"outlinewidth\": 0, \"ticks\": \"\"}, \"type\": \"contourcarpet\"}], \"heatmap\": [{\"colorbar\": {\"outlinewidth\": 0, \"ticks\": \"\"}, \"colorscale\": [[0.0, \"#0d0887\"], [0.1111111111111111, \"#46039f\"], [0.2222222222222222, \"#7201a8\"], [0.3333333333333333, \"#9c179e\"], [0.4444444444444444, \"#bd3786\"], [0.5555555555555556, \"#d8576b\"], [0.6666666666666666, \"#ed7953\"], [0.7777777777777778, \"#fb9f3a\"], [0.8888888888888888, \"#fdca26\"], [1.0, \"#f0f921\"]], \"type\": \"heatmap\"}], \"heatmapgl\": [{\"colorbar\": {\"outlinewidth\": 0, \"ticks\": \"\"}, \"colorscale\": [[0.0, \"#0d0887\"], [0.1111111111111111, \"#46039f\"], [0.2222222222222222, \"#7201a8\"], [0.3333333333333333, \"#9c179e\"], [0.4444444444444444, \"#bd3786\"], [0.5555555555555556, \"#d8576b\"], [0.6666666666666666, \"#ed7953\"], [0.7777777777777778, \"#fb9f3a\"], [0.8888888888888888, \"#fdca26\"], [1.0, \"#f0f921\"]], \"type\": \"heatmapgl\"}], \"histogram\": [{\"marker\": {\"colorbar\": {\"outlinewidth\": 0, \"ticks\": \"\"}}, \"type\": \"histogram\"}], \"histogram2d\": [{\"colorbar\": {\"outlinewidth\": 0, \"ticks\": \"\"}, \"colorscale\": [[0.0, \"#0d0887\"], [0.1111111111111111, \"#46039f\"], [0.2222222222222222, \"#7201a8\"], [0.3333333333333333, \"#9c179e\"], [0.4444444444444444, \"#bd3786\"], [0.5555555555555556, \"#d8576b\"], [0.6666666666666666, \"#ed7953\"], [0.7777777777777778, \"#fb9f3a\"], [0.8888888888888888, \"#fdca26\"], [1.0, \"#f0f921\"]], \"type\": \"histogram2d\"}], \"histogram2dcontour\": [{\"colorbar\": {\"outlinewidth\": 0, \"ticks\": \"\"}, \"colorscale\": [[0.0, \"#0d0887\"], [0.1111111111111111, \"#46039f\"], [0.2222222222222222, \"#7201a8\"], [0.3333333333333333, \"#9c179e\"], [0.4444444444444444, \"#bd3786\"], [0.5555555555555556, \"#d8576b\"], [0.6666666666666666, \"#ed7953\"], [0.7777777777777778, \"#fb9f3a\"], [0.8888888888888888, \"#fdca26\"], [1.0, \"#f0f921\"]], \"type\": \"histogram2dcontour\"}], \"mesh3d\": [{\"colorbar\": {\"outlinewidth\": 0, \"ticks\": \"\"}, \"type\": \"mesh3d\"}], \"parcoords\": [{\"line\": {\"colorbar\": {\"outlinewidth\": 0, \"ticks\": \"\"}}, \"type\": \"parcoords\"}], \"pie\": [{\"automargin\": true, \"type\": \"pie\"}], \"scatter\": [{\"marker\": {\"colorbar\": {\"outlinewidth\": 0, \"ticks\": \"\"}}, \"type\": \"scatter\"}], \"scatter3d\": [{\"line\": {\"colorbar\": {\"outlinewidth\": 0, \"ticks\": \"\"}}, \"marker\": {\"colorbar\": {\"outlinewidth\": 0, \"ticks\": \"\"}}, \"type\": \"scatter3d\"}], \"scattercarpet\": [{\"marker\": {\"colorbar\": {\"outlinewidth\": 0, \"ticks\": \"\"}}, \"type\": \"scattercarpet\"}], \"scattergeo\": [{\"marker\": {\"colorbar\": {\"outlinewidth\": 0, \"ticks\": \"\"}}, \"type\": \"scattergeo\"}], \"scattergl\": [{\"marker\": {\"colorbar\": {\"outlinewidth\": 0, \"ticks\": \"\"}}, \"type\": \"scattergl\"}], \"scattermapbox\": [{\"marker\": {\"colorbar\": {\"outlinewidth\": 0, \"ticks\": \"\"}}, \"type\": \"scattermapbox\"}], \"scatterpolar\": [{\"marker\": {\"colorbar\": {\"outlinewidth\": 0, \"ticks\": \"\"}}, \"type\": \"scatterpolar\"}], \"scatterpolargl\": [{\"marker\": {\"colorbar\": {\"outlinewidth\": 0, \"ticks\": \"\"}}, \"type\": \"scatterpolargl\"}], \"scatterternary\": [{\"marker\": {\"colorbar\": {\"outlinewidth\": 0, \"ticks\": \"\"}}, \"type\": \"scatterternary\"}], \"surface\": [{\"colorbar\": {\"outlinewidth\": 0, \"ticks\": \"\"}, \"colorscale\": [[0.0, \"#0d0887\"], [0.1111111111111111, \"#46039f\"], [0.2222222222222222, \"#7201a8\"], [0.3333333333333333, \"#9c179e\"], [0.4444444444444444, \"#bd3786\"], [0.5555555555555556, \"#d8576b\"], [0.6666666666666666, \"#ed7953\"], [0.7777777777777778, \"#fb9f3a\"], [0.8888888888888888, \"#fdca26\"], [1.0, \"#f0f921\"]], \"type\": \"surface\"}], \"table\": [{\"cells\": {\"fill\": {\"color\": \"#EBF0F8\"}, \"line\": {\"color\": \"white\"}}, \"header\": {\"fill\": {\"color\": \"#C8D4E3\"}, \"line\": {\"color\": \"white\"}}, \"type\": \"table\"}]}, \"layout\": {\"annotationdefaults\": {\"arrowcolor\": \"#2a3f5f\", \"arrowhead\": 0, \"arrowwidth\": 1}, \"coloraxis\": {\"colorbar\": {\"outlinewidth\": 0, \"ticks\": \"\"}}, \"colorscale\": {\"diverging\": [[0, \"#8e0152\"], [0.1, \"#c51b7d\"], [0.2, \"#de77ae\"], [0.3, \"#f1b6da\"], [0.4, \"#fde0ef\"], [0.5, \"#f7f7f7\"], [0.6, \"#e6f5d0\"], [0.7, \"#b8e186\"], [0.8, \"#7fbc41\"], [0.9, \"#4d9221\"], [1, \"#276419\"]], \"sequential\": [[0.0, \"#0d0887\"], [0.1111111111111111, \"#46039f\"], [0.2222222222222222, \"#7201a8\"], [0.3333333333333333, \"#9c179e\"], [0.4444444444444444, \"#bd3786\"], [0.5555555555555556, \"#d8576b\"], [0.6666666666666666, \"#ed7953\"], [0.7777777777777778, \"#fb9f3a\"], [0.8888888888888888, \"#fdca26\"], [1.0, \"#f0f921\"]], \"sequentialminus\": [[0.0, \"#0d0887\"], [0.1111111111111111, \"#46039f\"], [0.2222222222222222, \"#7201a8\"], [0.3333333333333333, \"#9c179e\"], [0.4444444444444444, \"#bd3786\"], [0.5555555555555556, \"#d8576b\"], [0.6666666666666666, \"#ed7953\"], [0.7777777777777778, \"#fb9f3a\"], [0.8888888888888888, \"#fdca26\"], [1.0, \"#f0f921\"]]}, \"colorway\": [\"#636efa\", \"#EF553B\", \"#00cc96\", \"#ab63fa\", \"#FFA15A\", \"#19d3f3\", \"#FF6692\", \"#B6E880\", \"#FF97FF\", \"#FECB52\"], \"font\": {\"color\": \"#2a3f5f\"}, \"geo\": {\"bgcolor\": \"white\", \"lakecolor\": \"white\", \"landcolor\": \"#E5ECF6\", \"showlakes\": true, \"showland\": true, \"subunitcolor\": \"white\"}, \"hoverlabel\": {\"align\": \"left\"}, \"hovermode\": \"closest\", \"mapbox\": {\"style\": \"light\"}, \"paper_bgcolor\": \"white\", \"plot_bgcolor\": \"#E5ECF6\", \"polar\": {\"angularaxis\": {\"gridcolor\": \"white\", \"linecolor\": \"white\", \"ticks\": \"\"}, \"bgcolor\": \"#E5ECF6\", \"radialaxis\": {\"gridcolor\": \"white\", \"linecolor\": \"white\", \"ticks\": \"\"}}, \"scene\": {\"xaxis\": {\"backgroundcolor\": \"#E5ECF6\", \"gridcolor\": \"white\", \"gridwidth\": 2, \"linecolor\": \"white\", \"showbackground\": true, \"ticks\": \"\", \"zerolinecolor\": \"white\"}, \"yaxis\": {\"backgroundcolor\": \"#E5ECF6\", \"gridcolor\": \"white\", \"gridwidth\": 2, \"linecolor\": \"white\", \"showbackground\": true, \"ticks\": \"\", \"zerolinecolor\": \"white\"}, \"zaxis\": {\"backgroundcolor\": \"#E5ECF6\", \"gridcolor\": \"white\", \"gridwidth\": 2, \"linecolor\": \"white\", \"showbackground\": true, \"ticks\": \"\", \"zerolinecolor\": \"white\"}}, \"shapedefaults\": {\"line\": {\"color\": \"#2a3f5f\"}}, \"ternary\": {\"aaxis\": {\"gridcolor\": \"white\", \"linecolor\": \"white\", \"ticks\": \"\"}, \"baxis\": {\"gridcolor\": \"white\", \"linecolor\": \"white\", \"ticks\": \"\"}, \"bgcolor\": \"#E5ECF6\", \"caxis\": {\"gridcolor\": \"white\", \"linecolor\": \"white\", \"ticks\": \"\"}}, \"title\": {\"x\": 0.05}, \"xaxis\": {\"automargin\": true, \"gridcolor\": \"white\", \"linecolor\": \"white\", \"ticks\": \"\", \"title\": {\"standoff\": 15}, \"zerolinecolor\": \"white\", \"zerolinewidth\": 2}, \"yaxis\": {\"automargin\": true, \"gridcolor\": \"white\", \"linecolor\": \"white\", \"ticks\": \"\", \"title\": {\"standoff\": 15}, \"zerolinecolor\": \"white\", \"zerolinewidth\": 2}}}, \"xaxis\": {\"anchor\": \"y\", \"domain\": [0.0, 0.31999999999999995]}, \"xaxis2\": {\"anchor\": \"y2\", \"domain\": [0.33999999999999997, 0.6599999999999999], \"matches\": \"x\"}, \"xaxis3\": {\"anchor\": \"y3\", \"domain\": [0.6799999999999999, 0.9999999999999999], \"matches\": \"x\"}, \"yaxis\": {\"anchor\": \"x\", \"domain\": [0.0, 1.0], \"title\": {\"text\": \"value\"}}, \"yaxis2\": {\"anchor\": \"x2\", \"domain\": [0.0, 1.0], \"matches\": \"y\", \"showticklabels\": false}, \"yaxis3\": {\"anchor\": \"x3\", \"domain\": [0.0, 1.0], \"matches\": \"y\", \"showticklabels\": false}},\n",
       "                        {\"responsive\": true}\n",
       "                    ).then(function(){\n",
       "                            \n",
       "var gd = document.getElementById('3196f54e-162b-4aa1-abdd-4e97cbb596d2');\n",
       "var x = new MutationObserver(function (mutations, observer) {{\n",
       "        var display = window.getComputedStyle(gd).display;\n",
       "        if (!display || display === 'none') {{\n",
       "            console.log([gd, 'removed!']);\n",
       "            Plotly.purge(gd);\n",
       "            observer.disconnect();\n",
       "        }}\n",
       "}});\n",
       "\n",
       "// Listen for the removal of the full notebook cells\n",
       "var notebookContainer = gd.closest('#notebook-container');\n",
       "if (notebookContainer) {{\n",
       "    x.observe(notebookContainer, {childList: true});\n",
       "}}\n",
       "\n",
       "// Listen for the clearing of the current output cell\n",
       "var outputEl = gd.closest('.output');\n",
       "if (outputEl) {{\n",
       "    x.observe(outputEl, {childList: true});\n",
       "}}\n",
       "\n",
       "                        })\n",
       "                };\n",
       "                });\n",
       "            </script>\n",
       "        </div>"
      ]
     },
     "metadata": {},
     "output_type": "display_data"
    }
   ],
   "source": [
    "import plotly.express as px\n",
    "import pandas as pd\n",
    "\n",
    "data = pso_solutions_list\n",
    "df = pd.DataFrame(dict(\n",
    "    linear=data,\n",
    "    inclusive=data,\n",
    "    exclusive=data\n",
    ")).melt(var_name=\"quartilemethod\")\n",
    "\n",
    "\n",
    "fig = px.box(df, y=\"value\", facet_col=\"quartilemethod\", color=\"quartilemethod\",\n",
    "             boxmode=\"overlay\", points='all')\n",
    "\n",
    "fig.update_traces(quartilemethod=\"linear\", jitter=0, col=1)\n",
    "fig.update_traces(quartilemethod=\"inclusive\", jitter=0, col=2)\n",
    "fig.update_traces(quartilemethod=\"exclusive\", jitter=0, col=3)\n",
    "\n",
    "fig.show()\n"
   ]
  },
  {
   "cell_type": "markdown",
   "metadata": {},
   "source": [
    "# Two Sample T-test"
   ]
  },
  {
   "cell_type": "code",
   "execution_count": 36,
   "metadata": {},
   "outputs": [],
   "source": [
    "import scipy.stats\n",
    "t_test = scipy.stats.ttest_ind(sao_solutions_list, pso_solutions_list, axis=0, equal_var=False, nan_policy='propagate')"
   ]
  },
  {
   "cell_type": "code",
   "execution_count": 37,
   "metadata": {},
   "outputs": [
    {
     "data": {
      "text/plain": [
       "Ttest_indResult(statistic=-10.99422715469237, pvalue=4.0009621745915356e-15)"
      ]
     },
     "execution_count": 37,
     "metadata": {},
     "output_type": "execute_result"
    }
   ],
   "source": [
    "t_test"
   ]
  },
  {
   "cell_type": "code",
   "execution_count": 38,
   "metadata": {},
   "outputs": [
    {
     "data": {
      "text/plain": [
       "0.35151821688812684"
      ]
     },
     "execution_count": 38,
     "metadata": {},
     "output_type": "execute_result"
    }
   ],
   "source": [
    "sum(pso_solutions_list)/30"
   ]
  },
  {
   "cell_type": "code",
   "execution_count": null,
   "metadata": {},
   "outputs": [],
   "source": []
  }
 ],
 "metadata": {
  "kernelspec": {
   "display_name": "Python 3",
   "language": "python",
   "name": "python3"
  },
  "language_info": {
   "codemirror_mode": {
    "name": "ipython",
    "version": 3
   },
   "file_extension": ".py",
   "mimetype": "text/x-python",
   "name": "python",
   "nbconvert_exporter": "python",
   "pygments_lexer": "ipython3",
   "version": "3.7.4"
  }
 },
 "nbformat": 4,
 "nbformat_minor": 4
}
